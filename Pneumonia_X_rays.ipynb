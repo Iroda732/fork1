{
  "metadata": {
    "kernelspec": {
      "language": "python",
      "display_name": "Python 3",
      "name": "python3"
    },
    "language_info": {
      "name": "python",
      "version": "3.10.14",
      "mimetype": "text/x-python",
      "codemirror_mode": {
        "name": "ipython",
        "version": 3
      },
      "pygments_lexer": "ipython3",
      "nbconvert_exporter": "python",
      "file_extension": ".py"
    },
    "kaggle": {
      "accelerator": "nvidiaTeslaT4",
      "dataSources": [
        {
          "sourceId": 36499,
          "databundleVersionId": 3618301,
          "sourceType": "competition"
        }
      ],
      "dockerImageVersionId": 30787,
      "isInternetEnabled": true,
      "language": "python",
      "sourceType": "notebook",
      "isGpuEnabled": true
    },
    "colab": {
      "name": "Pneumonia_X_rays",
      "provenance": [],
      "include_colab_link": true
    }
  },
  "nbformat_minor": 0,
  "nbformat": 4,
  "cells": [
    {
      "cell_type": "markdown",
      "metadata": {
        "id": "view-in-github",
        "colab_type": "text"
      },
      "source": [
        "<a href=\"https://colab.research.google.com/github/Iroda732/fork1/blob/main/Pneumonia_X_rays.ipynb\" target=\"_parent\"><img src=\"https://colab.research.google.com/assets/colab-badge.svg\" alt=\"Open In Colab\"/></a>"
      ]
    },
    {
      "source": [
        "# IMPORTANT: SOME KAGGLE DATA SOURCES ARE PRIVATE\n",
        "# RUN THIS CELL IN ORDER TO IMPORT YOUR KAGGLE DATA SOURCES.\n",
        "import kagglehub\n",
        "kagglehub.login()\n"
      ],
      "metadata": {
        "id": "bU7eOogXsf-I"
      },
      "cell_type": "code",
      "outputs": [],
      "execution_count": null
    },
    {
      "cell_type": "code",
      "source": [],
      "metadata": {
        "id": "aCShZwRRslXP"
      },
      "execution_count": null,
      "outputs": []
    },
    {
      "source": [
        "# IMPORTANT: RUN THIS CELL IN ORDER TO IMPORT YOUR KAGGLE DATA SOURCES,\n",
        "# THEN FEEL FREE TO DELETE THIS CELL.\n",
        "# NOTE: THIS NOTEBOOK ENVIRONMENT DIFFERS FROM KAGGLE'S PYTHON\n",
        "# ENVIRONMENT SO THERE MAY BE MISSING LIBRARIES USED BY YOUR\n",
        "# NOTEBOOK.\n",
        "\n",
        "pnevmoniya_path = kagglehub.competition_download('pnevmoniya')\n",
        "\n",
        "print('Data source import complete.')\n"
      ],
      "metadata": {
        "id": "FGH9tvCosf-I"
      },
      "cell_type": "code",
      "outputs": [],
      "execution_count": null
    },
    {
      "cell_type": "code",
      "source": [
        "# This Python 3 environment comes with many helpful analytics libraries installed\n",
        "# It is defined by the kaggle/python Docker image: https://github.com/kaggle/docker-python\n",
        "# For example, here's several helpful packages to load\n",
        "\n",
        "import numpy as np # linear algebra\n",
        "import pandas as pd # data processing, CSV file I/O (e.g. pd.read_csv)\n",
        "\n",
        "# Input data files are available in the read-only \"../input/\" directory\n",
        "# For example, running this (by clicking run or pressing Shift+Enter) will list all files under the input directory\n",
        "\n",
        "import os\n",
        "for dirname, _, filenames in os.walk('/kaggle/input'):\n",
        "    for filename in filenames:\n",
        "        print(os.path.join(dirname, filename))\n",
        "\n",
        "# You can write up to 20GB to the current directory (/kaggle/working/) that gets preserved as output when you create a version using \"Save & Run All\"\n",
        "# You can also write temporary files to /kaggle/temp/, but they won't be saved outside of the current session"
      ],
      "metadata": {
        "_uuid": "8f2839f25d086af736a60e9eeb907d3b93b6e0e5",
        "_cell_guid": "b1076dfc-b9ad-4769-8c92-a6c4dae69d19",
        "execution": {
          "iopub.status.busy": "2024-10-19T06:15:25.12532Z",
          "iopub.execute_input": "2024-10-19T06:15:25.125685Z",
          "iopub.status.idle": "2024-10-19T06:15:33.183094Z",
          "shell.execute_reply.started": "2024-10-19T06:15:25.125648Z",
          "shell.execute_reply": "2024-10-19T06:15:33.182124Z"
        },
        "trusted": true,
        "id": "9PcQassMsf-J"
      },
      "outputs": [],
      "execution_count": null
    },
    {
      "cell_type": "code",
      "source": [
        "!pip install tensorflow numpy matplotlib pandas opencv-python scikit-learn"
      ],
      "metadata": {
        "execution": {
          "iopub.status.busy": "2024-10-19T06:15:54.928924Z",
          "iopub.execute_input": "2024-10-19T06:15:54.929884Z",
          "iopub.status.idle": "2024-10-19T06:16:07.928202Z",
          "shell.execute_reply.started": "2024-10-19T06:15:54.929842Z",
          "shell.execute_reply": "2024-10-19T06:16:07.926706Z"
        },
        "trusted": true,
        "id": "Lec4G05Asf-K"
      },
      "outputs": [],
      "execution_count": null
    },
    {
      "cell_type": "code",
      "source": [
        "import os\n",
        "import numpy as np\n",
        "import matplotlib.pyplot as plt\n",
        "from tensorflow.keras.preprocessing.image import ImageDataGenerator\n",
        "import fastai\n",
        "import torch\n",
        "from fastai.vision.all import *"
      ],
      "metadata": {
        "execution": {
          "iopub.status.busy": "2024-10-19T06:16:16.33036Z",
          "iopub.execute_input": "2024-10-19T06:16:16.33076Z",
          "iopub.status.idle": "2024-10-19T06:16:37.650491Z",
          "shell.execute_reply.started": "2024-10-19T06:16:16.330718Z",
          "shell.execute_reply": "2024-10-19T06:16:37.649473Z"
        },
        "trusted": true,
        "id": "1hF9podEsf-K"
      },
      "outputs": [],
      "execution_count": null
    },
    {
      "cell_type": "code",
      "source": [
        "print(fastai.__version__)"
      ],
      "metadata": {
        "execution": {
          "iopub.status.busy": "2024-10-19T06:16:48.983908Z",
          "iopub.execute_input": "2024-10-19T06:16:48.984813Z",
          "iopub.status.idle": "2024-10-19T06:16:48.989222Z",
          "shell.execute_reply.started": "2024-10-19T06:16:48.984773Z",
          "shell.execute_reply": "2024-10-19T06:16:48.988289Z"
        },
        "trusted": true,
        "id": "mqqwm5cbsf-K"
      },
      "outputs": [],
      "execution_count": null
    },
    {
      "cell_type": "code",
      "source": [
        "path = Path('/kaggle/input/pnevmoniya/train')"
      ],
      "metadata": {
        "execution": {
          "iopub.status.busy": "2024-10-19T06:16:52.21588Z",
          "iopub.execute_input": "2024-10-19T06:16:52.216631Z",
          "iopub.status.idle": "2024-10-19T06:16:52.220824Z",
          "shell.execute_reply.started": "2024-10-19T06:16:52.216589Z",
          "shell.execute_reply": "2024-10-19T06:16:52.219816Z"
        },
        "trusted": true,
        "id": "sw329fXBsf-L"
      },
      "outputs": [],
      "execution_count": null
    },
    {
      "cell_type": "code",
      "source": [
        "train_datagen = ImageDataGenerator(rescale=1./255,\n",
        "                                   rotation_range=20,\n",
        "                                   zoom_range=0.2,\n",
        "                                   shear_range=0.2,\n",
        "                                   horizontal_flip=True,\n",
        "                                   validation_split=0.2)"
      ],
      "metadata": {
        "execution": {
          "iopub.status.busy": "2024-10-19T06:17:31.153347Z",
          "iopub.execute_input": "2024-10-19T06:17:31.153951Z",
          "iopub.status.idle": "2024-10-19T06:17:31.158478Z",
          "shell.execute_reply.started": "2024-10-19T06:17:31.153914Z",
          "shell.execute_reply": "2024-10-19T06:17:31.157566Z"
        },
        "trusted": true,
        "id": "QfCx2VlKsf-L"
      },
      "outputs": [],
      "execution_count": null
    },
    {
      "cell_type": "code",
      "source": [
        "train_generator = train_datagen.flow_from_directory(\n",
        "    path,\n",
        "    target_size=(224, 224),\n",
        "    batch_size=32,\n",
        "    class_mode='binary',\n",
        "    subset='training')"
      ],
      "metadata": {
        "execution": {
          "iopub.status.busy": "2024-10-19T06:17:36.161211Z",
          "iopub.execute_input": "2024-10-19T06:17:36.161948Z",
          "iopub.status.idle": "2024-10-19T06:17:37.127718Z",
          "shell.execute_reply.started": "2024-10-19T06:17:36.16191Z",
          "shell.execute_reply": "2024-10-19T06:17:37.126974Z"
        },
        "trusted": true,
        "id": "kYgqe6Assf-L"
      },
      "outputs": [],
      "execution_count": null
    },
    {
      "cell_type": "code",
      "source": [
        "validation_generator = train_datagen.flow_from_directory(\n",
        "    path,\n",
        "    target_size=(224, 224),\n",
        "    batch_size=32,\n",
        "    class_mode='binary',\n",
        "    subset='validation')\n"
      ],
      "metadata": {
        "execution": {
          "iopub.status.busy": "2024-10-19T06:17:39.696026Z",
          "iopub.execute_input": "2024-10-19T06:17:39.696872Z",
          "iopub.status.idle": "2024-10-19T06:17:39.756928Z",
          "shell.execute_reply.started": "2024-10-19T06:17:39.696834Z",
          "shell.execute_reply": "2024-10-19T06:17:39.755999Z"
        },
        "trusted": true,
        "id": "Zk-4F1IMsf-M"
      },
      "outputs": [],
      "execution_count": null
    },
    {
      "cell_type": "code",
      "source": [
        "sample_images, sample_labels = next(train_generator)\n",
        "plt.figure(figsize=(10,10))\n",
        "for i in range(9):\n",
        "    plt.subplot(3,3,i+1)\n",
        "    plt.imshow(sample_images[i])\n",
        "    plt.axis('off')\n",
        "plt.show()"
      ],
      "metadata": {
        "execution": {
          "iopub.status.busy": "2024-10-19T06:17:42.852207Z",
          "iopub.execute_input": "2024-10-19T06:17:42.852925Z",
          "iopub.status.idle": "2024-10-19T06:17:44.383303Z",
          "shell.execute_reply.started": "2024-10-19T06:17:42.852886Z",
          "shell.execute_reply": "2024-10-19T06:17:44.382348Z"
        },
        "trusted": true,
        "id": "h7Y4akTesf-M"
      },
      "outputs": [],
      "execution_count": null
    },
    {
      "cell_type": "code",
      "source": [
        "from tensorflow.keras.applications import ResNet50\n",
        "from tensorflow.keras.models import Model\n",
        "from tensorflow.keras.layers import Dense, GlobalAveragePooling2D\n",
        "from tensorflow.keras.optimizers import Adam\n"
      ],
      "metadata": {
        "execution": {
          "iopub.status.busy": "2024-10-19T06:17:48.759834Z",
          "iopub.execute_input": "2024-10-19T06:17:48.760241Z",
          "iopub.status.idle": "2024-10-19T06:17:48.772644Z",
          "shell.execute_reply.started": "2024-10-19T06:17:48.760205Z",
          "shell.execute_reply": "2024-10-19T06:17:48.771727Z"
        },
        "trusted": true,
        "id": "CS-aow2Qsf-M"
      },
      "outputs": [],
      "execution_count": null
    },
    {
      "cell_type": "code",
      "source": [
        "base_model = ResNet50(weights='imagenet', include_top=False, input_shape=(224, 224, 3))"
      ],
      "metadata": {
        "execution": {
          "iopub.status.busy": "2024-10-19T06:17:52.496488Z",
          "iopub.execute_input": "2024-10-19T06:17:52.497343Z",
          "iopub.status.idle": "2024-10-19T06:17:55.102261Z",
          "shell.execute_reply.started": "2024-10-19T06:17:52.4973Z",
          "shell.execute_reply": "2024-10-19T06:17:55.101451Z"
        },
        "trusted": true,
        "id": "iqMpUM2Msf-M"
      },
      "outputs": [],
      "execution_count": null
    },
    {
      "cell_type": "code",
      "source": [
        "for layer in base_model.layers:\n",
        "    layer.trainable = False"
      ],
      "metadata": {
        "execution": {
          "iopub.status.busy": "2024-10-19T06:18:00.904195Z",
          "iopub.execute_input": "2024-10-19T06:18:00.905099Z",
          "iopub.status.idle": "2024-10-19T06:18:00.910834Z",
          "shell.execute_reply.started": "2024-10-19T06:18:00.905033Z",
          "shell.execute_reply": "2024-10-19T06:18:00.909882Z"
        },
        "trusted": true,
        "id": "9R4YDANvsf-N"
      },
      "outputs": [],
      "execution_count": null
    },
    {
      "cell_type": "code",
      "source": [
        "x = base_model.output\n",
        "x = GlobalAveragePooling2D()(x)\n",
        "x = Dense(512, activation='relu')(x)\n",
        "x = Dense(128, activation='relu')(x)\n",
        "predictions = Dense(1, activation='sigmoid')(x)  # Sigmoid for binary classification"
      ],
      "metadata": {
        "execution": {
          "iopub.status.busy": "2024-10-19T06:18:04.301988Z",
          "iopub.execute_input": "2024-10-19T06:18:04.302721Z",
          "iopub.status.idle": "2024-10-19T06:18:04.333592Z",
          "shell.execute_reply.started": "2024-10-19T06:18:04.30268Z",
          "shell.execute_reply": "2024-10-19T06:18:04.332569Z"
        },
        "trusted": true,
        "id": "VHgaehspsf-N"
      },
      "outputs": [],
      "execution_count": null
    },
    {
      "cell_type": "code",
      "source": [
        "model = Model(inputs=base_model.input, outputs=predictions)"
      ],
      "metadata": {
        "execution": {
          "iopub.status.busy": "2024-10-19T06:18:07.734555Z",
          "iopub.execute_input": "2024-10-19T06:18:07.735251Z",
          "iopub.status.idle": "2024-10-19T06:18:07.768321Z",
          "shell.execute_reply.started": "2024-10-19T06:18:07.735208Z",
          "shell.execute_reply": "2024-10-19T06:18:07.767483Z"
        },
        "trusted": true,
        "id": "NRMQ9uuisf-N"
      },
      "outputs": [],
      "execution_count": null
    },
    {
      "cell_type": "code",
      "source": [
        "model.compile(optimizer=Adam(learning_rate=0.001), loss='binary_crossentropy', metrics=['accuracy'])"
      ],
      "metadata": {
        "execution": {
          "iopub.status.busy": "2024-10-19T06:18:11.289885Z",
          "iopub.execute_input": "2024-10-19T06:18:11.290693Z",
          "iopub.status.idle": "2024-10-19T06:18:11.305308Z",
          "shell.execute_reply.started": "2024-10-19T06:18:11.29065Z",
          "shell.execute_reply": "2024-10-19T06:18:11.304221Z"
        },
        "trusted": true,
        "id": "G7RkB9Hlsf-N"
      },
      "outputs": [],
      "execution_count": null
    },
    {
      "cell_type": "code",
      "source": [
        "model.summary()"
      ],
      "metadata": {
        "execution": {
          "iopub.status.busy": "2024-10-19T06:18:15.582259Z",
          "iopub.execute_input": "2024-10-19T06:18:15.582647Z",
          "iopub.status.idle": "2024-10-19T06:18:15.823205Z",
          "shell.execute_reply.started": "2024-10-19T06:18:15.582612Z",
          "shell.execute_reply": "2024-10-19T06:18:15.822354Z"
        },
        "trusted": true,
        "id": "zhAcWB9-sf-N"
      },
      "outputs": [],
      "execution_count": null
    },
    {
      "cell_type": "code",
      "source": [
        "history = model.fit(\n",
        "    train_generator,\n",
        "    epochs=10,\n",
        "    validation_data=validation_generator,\n",
        "    steps_per_epoch=train_generator.samples // train_generator.batch_size,\n",
        "    validation_steps=validation_generator.samples // validation_generator.batch_size)"
      ],
      "metadata": {
        "execution": {
          "iopub.status.busy": "2024-10-19T06:18:25.445456Z",
          "iopub.execute_input": "2024-10-19T06:18:25.445829Z",
          "iopub.status.idle": "2024-10-19T06:28:19.156565Z",
          "shell.execute_reply.started": "2024-10-19T06:18:25.445794Z",
          "shell.execute_reply": "2024-10-19T06:28:19.155762Z"
        },
        "trusted": true,
        "id": "XKiB1Tgcsf-N"
      },
      "outputs": [],
      "execution_count": null
    },
    {
      "cell_type": "code",
      "source": [
        "plt.plot(history.history['accuracy'], label='Train Accuracy')\n",
        "plt.plot(history.history['val_accuracy'], label='Validation Accuracy')\n",
        "plt.legend()\n",
        "plt.show()"
      ],
      "metadata": {
        "trusted": true,
        "execution": {
          "iopub.status.busy": "2024-10-19T06:28:31.883414Z",
          "iopub.execute_input": "2024-10-19T06:28:31.883765Z",
          "iopub.status.idle": "2024-10-19T06:28:32.147871Z",
          "shell.execute_reply.started": "2024-10-19T06:28:31.883733Z",
          "shell.execute_reply": "2024-10-19T06:28:32.146928Z"
        },
        "id": "949kMqcbsf-N"
      },
      "outputs": [],
      "execution_count": null
    },
    {
      "cell_type": "code",
      "source": [
        "for layer in base_model.layers[-30:]:\n",
        "    layer.trainable = True"
      ],
      "metadata": {
        "trusted": true,
        "execution": {
          "iopub.status.busy": "2024-10-19T06:28:41.41941Z",
          "iopub.execute_input": "2024-10-19T06:28:41.420222Z",
          "iopub.status.idle": "2024-10-19T06:28:41.424902Z",
          "shell.execute_reply.started": "2024-10-19T06:28:41.420182Z",
          "shell.execute_reply": "2024-10-19T06:28:41.423885Z"
        },
        "id": "1nws-p74sf-N"
      },
      "outputs": [],
      "execution_count": null
    },
    {
      "cell_type": "code",
      "source": [
        "model.compile(optimizer=Adam(learning_rate=1e-5), loss='binary_crossentropy', metrics=['accuracy'])"
      ],
      "metadata": {
        "trusted": true,
        "execution": {
          "iopub.status.busy": "2024-10-19T06:28:47.348306Z",
          "iopub.execute_input": "2024-10-19T06:28:47.349016Z",
          "iopub.status.idle": "2024-10-19T06:28:47.358645Z",
          "shell.execute_reply.started": "2024-10-19T06:28:47.348974Z",
          "shell.execute_reply": "2024-10-19T06:28:47.357667Z"
        },
        "id": "KqA-BLfgsf-O"
      },
      "outputs": [],
      "execution_count": null
    },
    {
      "cell_type": "code",
      "source": [
        "fine_tune_history = model.fit(\n",
        "    train_generator,\n",
        "    epochs=5,\n",
        "    validation_data=validation_generator,\n",
        "    steps_per_epoch=train_generator.samples // train_generator.batch_size,\n",
        "    validation_steps=validation_generator.samples // validation_generator.batch_size)"
      ],
      "metadata": {
        "trusted": true,
        "execution": {
          "iopub.status.busy": "2024-10-19T06:28:52.443814Z",
          "iopub.execute_input": "2024-10-19T06:28:52.444223Z",
          "iopub.status.idle": "2024-10-19T06:34:57.907982Z",
          "shell.execute_reply.started": "2024-10-19T06:28:52.444184Z",
          "shell.execute_reply": "2024-10-19T06:34:57.907182Z"
        },
        "id": "I-0zIf3Ssf-O"
      },
      "outputs": [],
      "execution_count": null
    },
    {
      "cell_type": "code",
      "source": [
        "plt.plot(fine_tune_history.history['accuracy'], label='Fine-tune Train Accuracy')\n",
        "plt.plot(fine_tune_history.history['val_accuracy'], label='Fine-tune Validation Accuracy')\n",
        "plt.legend()\n",
        "plt.show()"
      ],
      "metadata": {
        "trusted": true,
        "execution": {
          "iopub.status.busy": "2024-10-19T06:35:18.391784Z",
          "iopub.execute_input": "2024-10-19T06:35:18.392705Z",
          "iopub.status.idle": "2024-10-19T06:35:18.65391Z",
          "shell.execute_reply.started": "2024-10-19T06:35:18.392658Z",
          "shell.execute_reply": "2024-10-19T06:35:18.652999Z"
        },
        "id": "FMILGjZRsf-O"
      },
      "outputs": [],
      "execution_count": null
    },
    {
      "cell_type": "code",
      "source": [
        "from sklearn.metrics import classification_report, confusion_matrix"
      ],
      "metadata": {
        "trusted": true,
        "execution": {
          "iopub.status.busy": "2024-10-19T06:35:25.993959Z",
          "iopub.execute_input": "2024-10-19T06:35:25.994337Z",
          "iopub.status.idle": "2024-10-19T06:35:25.998754Z",
          "shell.execute_reply.started": "2024-10-19T06:35:25.994303Z",
          "shell.execute_reply": "2024-10-19T06:35:25.997732Z"
        },
        "id": "g06Fa_yXsf-O"
      },
      "outputs": [],
      "execution_count": null
    },
    {
      "cell_type": "code",
      "source": [
        "validation_generator.reset()\n",
        "predictions = model.predict(validation_generator, steps=validation_generator.samples // validation_generator.batch_size)\n",
        "y_pred = np.where(predictions > 0.5, 1, 0)\n",
        "y_true = validation_generator.classes[:len(y_pred)]"
      ],
      "metadata": {
        "trusted": true,
        "execution": {
          "iopub.status.busy": "2024-10-19T06:35:30.508001Z",
          "iopub.execute_input": "2024-10-19T06:35:30.508418Z",
          "iopub.status.idle": "2024-10-19T06:35:55.114502Z",
          "shell.execute_reply.started": "2024-10-19T06:35:30.508379Z",
          "shell.execute_reply": "2024-10-19T06:35:55.113458Z"
        },
        "id": "jHaVwUI4sf-O"
      },
      "outputs": [],
      "execution_count": null
    },
    {
      "cell_type": "code",
      "source": [
        "print(classification_report(y_true, y_pred, target_names=['Normal', 'Pneumonia']))\n",
        "print(confusion_matrix(y_true, y_pred))"
      ],
      "metadata": {
        "trusted": true,
        "execution": {
          "iopub.status.busy": "2024-10-19T06:35:58.817333Z",
          "iopub.execute_input": "2024-10-19T06:35:58.817711Z",
          "iopub.status.idle": "2024-10-19T06:35:58.835642Z",
          "shell.execute_reply.started": "2024-10-19T06:35:58.817675Z",
          "shell.execute_reply": "2024-10-19T06:35:58.834773Z"
        },
        "id": "mZfBtmkisf-O"
      },
      "outputs": [],
      "execution_count": null
    },
    {
      "cell_type": "code",
      "source": [
        "model.save('pneumonia_detection_model.h5')"
      ],
      "metadata": {
        "trusted": true,
        "execution": {
          "iopub.status.busy": "2024-10-19T06:36:30.883997Z",
          "iopub.execute_input": "2024-10-19T06:36:30.884411Z",
          "iopub.status.idle": "2024-10-19T06:36:31.518538Z",
          "shell.execute_reply.started": "2024-10-19T06:36:30.884375Z",
          "shell.execute_reply": "2024-10-19T06:36:31.5177Z"
        },
        "id": "rFpcY7M6sf-O"
      },
      "outputs": [],
      "execution_count": null
    },
    {
      "cell_type": "code",
      "source": [
        "from tensorflow.keras.preprocessing import image\n",
        "\n",
        "img_path = '/kaggle/input/pnevmoniya/test/test_img_10001.jpeg'\n",
        "img = image.load_img(img_path, target_size=(224, 224))\n",
        "img_array = image.img_to_array(img) / 255.0\n",
        "img_array = np.expand_dims(img_array, axis=0)"
      ],
      "metadata": {
        "trusted": true,
        "execution": {
          "iopub.status.busy": "2024-10-19T06:39:38.495994Z",
          "iopub.execute_input": "2024-10-19T06:39:38.496957Z",
          "iopub.status.idle": "2024-10-19T06:39:38.508457Z",
          "shell.execute_reply.started": "2024-10-19T06:39:38.496905Z",
          "shell.execute_reply": "2024-10-19T06:39:38.507524Z"
        },
        "id": "4e4rUofgsf-O"
      },
      "outputs": [],
      "execution_count": null
    },
    {
      "cell_type": "code",
      "source": [
        "import tensorflow as tf"
      ],
      "metadata": {
        "trusted": true,
        "execution": {
          "iopub.status.busy": "2024-10-19T06:45:43.657397Z",
          "iopub.execute_input": "2024-10-19T06:45:43.658481Z",
          "iopub.status.idle": "2024-10-19T06:45:43.663641Z",
          "shell.execute_reply.started": "2024-10-19T06:45:43.658433Z",
          "shell.execute_reply": "2024-10-19T06:45:43.662632Z"
        },
        "id": "lUnjjA6Wsf-O"
      },
      "outputs": [],
      "execution_count": null
    },
    {
      "cell_type": "code",
      "source": [
        "model = tf.keras.models.load_model('pneumonia_detection_model.h5')\n",
        "prediction = model.predict(img_array)\n",
        "print(f'Prediction: {\"Pneumonia\" if prediction > 0.5 else \"Normal\"}')"
      ],
      "metadata": {
        "trusted": true,
        "execution": {
          "iopub.status.busy": "2024-10-19T06:45:46.96884Z",
          "iopub.execute_input": "2024-10-19T06:45:46.969705Z",
          "iopub.status.idle": "2024-10-19T06:45:52.29858Z",
          "shell.execute_reply.started": "2024-10-19T06:45:46.96965Z",
          "shell.execute_reply": "2024-10-19T06:45:52.297597Z"
        },
        "id": "anoS3zu2sf-P"
      },
      "outputs": [],
      "execution_count": null
    },
    {
      "cell_type": "code",
      "source": [
        "test_images = ['/kaggle/input/pnevmoniya/test/test_img_10001.jpeg', '/kaggle/input/pnevmoniya/test/test_img_10002.jpeg', '/kaggle/input/pnevmoniya/test/test_img_10003.jpeg', '/kaggle/input/pnevmoniya/test/test_img_10004.jpeg', '/kaggle/input/pnevmoniya/test/test_img_10005.jpeg']\n",
        "predictions = []\n"
      ],
      "metadata": {
        "trusted": true,
        "execution": {
          "iopub.status.busy": "2024-10-19T06:57:42.00633Z",
          "iopub.execute_input": "2024-10-19T06:57:42.006734Z",
          "iopub.status.idle": "2024-10-19T06:57:42.011661Z",
          "shell.execute_reply.started": "2024-10-19T06:57:42.006699Z",
          "shell.execute_reply": "2024-10-19T06:57:42.010604Z"
        },
        "id": "-Txpf_OSsf-P"
      },
      "outputs": [],
      "execution_count": null
    },
    {
      "cell_type": "code",
      "source": [
        "for img_path in test_images:\n",
        "    img = image.load_img(img_path, target_size=(224, 224))\n",
        "    img_array = image.img_to_array(img) / 255.0\n",
        "    img_array = np.expand_dims(img_array, axis=0)\n",
        "    pred = model.predict(img_array)\n",
        "    predictions.append(pred[0][0])"
      ],
      "metadata": {
        "trusted": true,
        "execution": {
          "iopub.status.busy": "2024-10-19T06:57:08.154681Z",
          "iopub.execute_input": "2024-10-19T06:57:08.155025Z",
          "iopub.status.idle": "2024-10-19T06:57:08.639688Z",
          "shell.execute_reply.started": "2024-10-19T06:57:08.154992Z",
          "shell.execute_reply": "2024-10-19T06:57:08.638783Z"
        },
        "id": "Ucc45QTmsf-P"
      },
      "outputs": [],
      "execution_count": null
    },
    {
      "cell_type": "code",
      "source": [
        "submission = pd.DataFrame({\n",
        "    'id': [os.path.basename(img_path) for img_path in test_images],\n",
        "    'label': predictions\n",
        "})"
      ],
      "metadata": {
        "trusted": true,
        "execution": {
          "iopub.status.busy": "2024-10-19T06:57:22.016862Z",
          "iopub.execute_input": "2024-10-19T06:57:22.017249Z",
          "iopub.status.idle": "2024-10-19T06:57:22.027983Z",
          "shell.execute_reply.started": "2024-10-19T06:57:22.017212Z",
          "shell.execute_reply": "2024-10-19T06:57:22.02709Z"
        },
        "id": "PB4d3Mb7sf-P"
      },
      "outputs": [],
      "execution_count": null
    },
    {
      "cell_type": "code",
      "source": [
        "submission.to_csv('submission.csv', index=False)"
      ],
      "metadata": {
        "trusted": true,
        "execution": {
          "iopub.status.busy": "2024-10-19T06:58:28.298547Z",
          "iopub.execute_input": "2024-10-19T06:58:28.298928Z",
          "iopub.status.idle": "2024-10-19T06:58:28.304997Z",
          "shell.execute_reply.started": "2024-10-19T06:58:28.298891Z",
          "shell.execute_reply": "2024-10-19T06:58:28.304106Z"
        },
        "id": "vsvSBcBOsf-P"
      },
      "outputs": [],
      "execution_count": null
    }
  ]
}