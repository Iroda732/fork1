{
 "cells": [
  {
   "cell_type": "code",
   "execution_count": 1,
   "id": "8b70936a",
   "metadata": {
    "_cell_guid": "b1076dfc-b9ad-4769-8c92-a6c4dae69d19",
    "_uuid": "8f2839f25d086af736a60e9eeb907d3b93b6e0e5",
    "execution": {
     "iopub.execute_input": "2024-10-15T20:23:08.684598Z",
     "iopub.status.busy": "2024-10-15T20:23:08.684175Z",
     "iopub.status.idle": "2024-10-15T20:23:09.590788Z",
     "shell.execute_reply": "2024-10-15T20:23:09.589780Z"
    },
    "papermill": {
     "duration": 0.920936,
     "end_time": "2024-10-15T20:23:09.593356",
     "exception": false,
     "start_time": "2024-10-15T20:23:08.672420",
     "status": "completed"
    },
    "tags": []
   },
   "outputs": [
    {
     "name": "stdout",
     "output_type": "stream",
     "text": [
      "/kaggle/input/aviakompaniya/sample_submission.csv\n",
      "/kaggle/input/aviakompaniya/train_dataset.csv\n",
      "/kaggle/input/aviakompaniya/test_dataset.csv\n"
     ]
    }
   ],
   "source": [
    "# This Python 3 environment comes with many helpful analytics libraries installed\n",
    "# It is defined by the kaggle/python Docker image: https://github.com/kaggle/docker-python\n",
    "# For example, here's several helpful packages to load\n",
    "\n",
    "import numpy as np # linear algebra\n",
    "import pandas as pd # data processing, CSV file I/O (e.g. pd.read_csv)\n",
    "\n",
    "# Input data files are available in the read-only \"../input/\" directory\n",
    "# For example, running this (by clicking run or pressing Shift+Enter) will list all files under the input directory\n",
    "\n",
    "import os\n",
    "for dirname, _, filenames in os.walk('/kaggle/input'):\n",
    "    for filename in filenames:\n",
    "        print(os.path.join(dirname, filename))\n",
    "\n",
    "# You can write up to 20GB to the current directory (/kaggle/working/) that gets preserved as output when you create a version using \"Save & Run All\" \n",
    "# You can also write temporary files to /kaggle/temp/, but they won't be saved outside of the current session"
   ]
  },
  {
   "cell_type": "code",
   "execution_count": 2,
   "id": "26730847",
   "metadata": {
    "execution": {
     "iopub.execute_input": "2024-10-15T20:23:09.614044Z",
     "iopub.status.busy": "2024-10-15T20:23:09.612931Z",
     "iopub.status.idle": "2024-10-15T20:23:12.112650Z",
     "shell.execute_reply": "2024-10-15T20:23:12.111567Z"
    },
    "papermill": {
     "duration": 2.512752,
     "end_time": "2024-10-15T20:23:12.115321",
     "exception": false,
     "start_time": "2024-10-15T20:23:09.602569",
     "status": "completed"
    },
    "tags": []
   },
   "outputs": [],
   "source": [
    "import matplotlib.pyplot as plt\n",
    "import seaborn as sns\n",
    "\n",
    "from sklearn.preprocessing import StandardScaler\n",
    "from sklearn.model_selection import train_test_split\n",
    "\n",
    "from sklearn.linear_model import LogisticRegression\n",
    "from sklearn.tree import DecisionTreeClassifier, plot_tree\n",
    "from sklearn.ensemble import RandomForestClassifier\n",
    "from sklearn.svm import SVC\n",
    "from sklearn.metrics import classification_report\n",
    "from xgboost import XGBClassifier\n",
    "\n",
    "from sklearn.pipeline import Pipeline\n",
    "from sklearn import metrics "
   ]
  },
  {
   "cell_type": "code",
   "execution_count": 3,
   "id": "77048eda",
   "metadata": {
    "execution": {
     "iopub.execute_input": "2024-10-15T20:23:12.136778Z",
     "iopub.status.busy": "2024-10-15T20:23:12.135472Z",
     "iopub.status.idle": "2024-10-15T20:23:12.220265Z",
     "shell.execute_reply": "2024-10-15T20:23:12.219122Z"
    },
    "papermill": {
     "duration": 0.097442,
     "end_time": "2024-10-15T20:23:12.222853",
     "exception": false,
     "start_time": "2024-10-15T20:23:12.125411",
     "status": "completed"
    },
    "tags": []
   },
   "outputs": [],
   "source": [
    "train = pd.read_csv('../input/aviakompaniya/train_dataset.csv')\n",
    "test = pd.read_csv('../input/aviakompaniya/test_dataset.csv')\n"
   ]
  },
  {
   "cell_type": "code",
   "execution_count": 4,
   "id": "de7d8ff1",
   "metadata": {
    "execution": {
     "iopub.execute_input": "2024-10-15T20:23:12.242873Z",
     "iopub.status.busy": "2024-10-15T20:23:12.242464Z",
     "iopub.status.idle": "2024-10-15T20:23:12.279352Z",
     "shell.execute_reply": "2024-10-15T20:23:12.278385Z"
    },
    "papermill": {
     "duration": 0.049499,
     "end_time": "2024-10-15T20:23:12.281669",
     "exception": false,
     "start_time": "2024-10-15T20:23:12.232170",
     "status": "completed"
    },
    "tags": []
   },
   "outputs": [
    {
     "data": {
      "text/html": [
       "<div>\n",
       "<style scoped>\n",
       "    .dataframe tbody tr th:only-of-type {\n",
       "        vertical-align: middle;\n",
       "    }\n",
       "\n",
       "    .dataframe tbody tr th {\n",
       "        vertical-align: top;\n",
       "    }\n",
       "\n",
       "    .dataframe thead th {\n",
       "        text-align: right;\n",
       "    }\n",
       "</style>\n",
       "<table border=\"1\" class=\"dataframe\">\n",
       "  <thead>\n",
       "    <tr style=\"text-align: right;\">\n",
       "      <th></th>\n",
       "      <th>id</th>\n",
       "      <th>Gender</th>\n",
       "      <th>Customer Type</th>\n",
       "      <th>Age</th>\n",
       "      <th>Type of Travel</th>\n",
       "      <th>Class</th>\n",
       "      <th>Flight Distance</th>\n",
       "      <th>Inflight wifi service</th>\n",
       "      <th>Departure/Arrival time convenient</th>\n",
       "      <th>Ease of Online booking</th>\n",
       "      <th>...</th>\n",
       "      <th>Inflight entertainment</th>\n",
       "      <th>On-board service</th>\n",
       "      <th>Leg room service</th>\n",
       "      <th>Baggage handling</th>\n",
       "      <th>Checkin service</th>\n",
       "      <th>Inflight service</th>\n",
       "      <th>Cleanliness</th>\n",
       "      <th>Departure Delay in Minutes</th>\n",
       "      <th>Arrival Delay in Minutes</th>\n",
       "      <th>satisfaction</th>\n",
       "    </tr>\n",
       "  </thead>\n",
       "  <tbody>\n",
       "    <tr>\n",
       "      <th>0</th>\n",
       "      <td>1</td>\n",
       "      <td>Male</td>\n",
       "      <td>disloyal Customer</td>\n",
       "      <td>33</td>\n",
       "      <td>Business travel</td>\n",
       "      <td>Eco</td>\n",
       "      <td>571</td>\n",
       "      <td>2</td>\n",
       "      <td>3</td>\n",
       "      <td>2</td>\n",
       "      <td>...</td>\n",
       "      <td>4</td>\n",
       "      <td>3</td>\n",
       "      <td>1</td>\n",
       "      <td>3</td>\n",
       "      <td>4</td>\n",
       "      <td>3</td>\n",
       "      <td>4</td>\n",
       "      <td>10</td>\n",
       "      <td>3.0</td>\n",
       "      <td>0</td>\n",
       "    </tr>\n",
       "    <tr>\n",
       "      <th>1</th>\n",
       "      <td>2</td>\n",
       "      <td>Female</td>\n",
       "      <td>Loyal Customer</td>\n",
       "      <td>49</td>\n",
       "      <td>Business travel</td>\n",
       "      <td>Business</td>\n",
       "      <td>1431</td>\n",
       "      <td>4</td>\n",
       "      <td>1</td>\n",
       "      <td>4</td>\n",
       "      <td>...</td>\n",
       "      <td>5</td>\n",
       "      <td>5</td>\n",
       "      <td>5</td>\n",
       "      <td>5</td>\n",
       "      <td>3</td>\n",
       "      <td>5</td>\n",
       "      <td>3</td>\n",
       "      <td>0</td>\n",
       "      <td>0.0</td>\n",
       "      <td>1</td>\n",
       "    </tr>\n",
       "    <tr>\n",
       "      <th>2</th>\n",
       "      <td>3</td>\n",
       "      <td>Female</td>\n",
       "      <td>Loyal Customer</td>\n",
       "      <td>43</td>\n",
       "      <td>Business travel</td>\n",
       "      <td>Eco</td>\n",
       "      <td>867</td>\n",
       "      <td>1</td>\n",
       "      <td>4</td>\n",
       "      <td>4</td>\n",
       "      <td>...</td>\n",
       "      <td>1</td>\n",
       "      <td>1</td>\n",
       "      <td>1</td>\n",
       "      <td>1</td>\n",
       "      <td>1</td>\n",
       "      <td>1</td>\n",
       "      <td>2</td>\n",
       "      <td>0</td>\n",
       "      <td>18.0</td>\n",
       "      <td>0</td>\n",
       "    </tr>\n",
       "    <tr>\n",
       "      <th>3</th>\n",
       "      <td>4</td>\n",
       "      <td>Female</td>\n",
       "      <td>Loyal Customer</td>\n",
       "      <td>27</td>\n",
       "      <td>Business travel</td>\n",
       "      <td>Business</td>\n",
       "      <td>1550</td>\n",
       "      <td>3</td>\n",
       "      <td>3</td>\n",
       "      <td>3</td>\n",
       "      <td>...</td>\n",
       "      <td>2</td>\n",
       "      <td>4</td>\n",
       "      <td>4</td>\n",
       "      <td>5</td>\n",
       "      <td>5</td>\n",
       "      <td>4</td>\n",
       "      <td>2</td>\n",
       "      <td>0</td>\n",
       "      <td>0.0</td>\n",
       "      <td>1</td>\n",
       "    </tr>\n",
       "    <tr>\n",
       "      <th>4</th>\n",
       "      <td>5</td>\n",
       "      <td>Male</td>\n",
       "      <td>Loyal Customer</td>\n",
       "      <td>11</td>\n",
       "      <td>Personal Travel</td>\n",
       "      <td>Eco</td>\n",
       "      <td>526</td>\n",
       "      <td>3</td>\n",
       "      <td>4</td>\n",
       "      <td>3</td>\n",
       "      <td>...</td>\n",
       "      <td>4</td>\n",
       "      <td>5</td>\n",
       "      <td>2</td>\n",
       "      <td>5</td>\n",
       "      <td>3</td>\n",
       "      <td>5</td>\n",
       "      <td>4</td>\n",
       "      <td>0</td>\n",
       "      <td>10.0</td>\n",
       "      <td>0</td>\n",
       "    </tr>\n",
       "  </tbody>\n",
       "</table>\n",
       "<p>5 rows × 24 columns</p>\n",
       "</div>"
      ],
      "text/plain": [
       "   id  Gender      Customer Type  Age   Type of Travel     Class  \\\n",
       "0   1    Male  disloyal Customer   33  Business travel       Eco   \n",
       "1   2  Female     Loyal Customer   49  Business travel  Business   \n",
       "2   3  Female     Loyal Customer   43  Business travel       Eco   \n",
       "3   4  Female     Loyal Customer   27  Business travel  Business   \n",
       "4   5    Male     Loyal Customer   11  Personal Travel       Eco   \n",
       "\n",
       "   Flight Distance  Inflight wifi service  Departure/Arrival time convenient  \\\n",
       "0              571                      2                                  3   \n",
       "1             1431                      4                                  1   \n",
       "2              867                      1                                  4   \n",
       "3             1550                      3                                  3   \n",
       "4              526                      3                                  4   \n",
       "\n",
       "   Ease of Online booking  ...  Inflight entertainment  On-board service  \\\n",
       "0                       2  ...                       4                 3   \n",
       "1                       4  ...                       5                 5   \n",
       "2                       4  ...                       1                 1   \n",
       "3                       3  ...                       2                 4   \n",
       "4                       3  ...                       4                 5   \n",
       "\n",
       "   Leg room service  Baggage handling  Checkin service  Inflight service  \\\n",
       "0                 1                 3                4                 3   \n",
       "1                 5                 5                3                 5   \n",
       "2                 1                 1                1                 1   \n",
       "3                 4                 5                5                 4   \n",
       "4                 2                 5                3                 5   \n",
       "\n",
       "   Cleanliness  Departure Delay in Minutes  Arrival Delay in Minutes  \\\n",
       "0            4                          10                       3.0   \n",
       "1            3                           0                       0.0   \n",
       "2            2                           0                      18.0   \n",
       "3            2                           0                       0.0   \n",
       "4            4                           0                      10.0   \n",
       "\n",
       "   satisfaction  \n",
       "0             0  \n",
       "1             1  \n",
       "2             0  \n",
       "3             1  \n",
       "4             0  \n",
       "\n",
       "[5 rows x 24 columns]"
      ]
     },
     "execution_count": 4,
     "metadata": {},
     "output_type": "execute_result"
    }
   ],
   "source": [
    "train.head()"
   ]
  },
  {
   "cell_type": "code",
   "execution_count": 5,
   "id": "07fe8524",
   "metadata": {
    "execution": {
     "iopub.execute_input": "2024-10-15T20:23:12.301902Z",
     "iopub.status.busy": "2024-10-15T20:23:12.301488Z",
     "iopub.status.idle": "2024-10-15T20:23:12.320314Z",
     "shell.execute_reply": "2024-10-15T20:23:12.319174Z"
    },
    "papermill": {
     "duration": 0.031532,
     "end_time": "2024-10-15T20:23:12.322618",
     "exception": false,
     "start_time": "2024-10-15T20:23:12.291086",
     "status": "completed"
    },
    "tags": []
   },
   "outputs": [
    {
     "data": {
      "text/html": [
       "<div>\n",
       "<style scoped>\n",
       "    .dataframe tbody tr th:only-of-type {\n",
       "        vertical-align: middle;\n",
       "    }\n",
       "\n",
       "    .dataframe tbody tr th {\n",
       "        vertical-align: top;\n",
       "    }\n",
       "\n",
       "    .dataframe thead th {\n",
       "        text-align: right;\n",
       "    }\n",
       "</style>\n",
       "<table border=\"1\" class=\"dataframe\">\n",
       "  <thead>\n",
       "    <tr style=\"text-align: right;\">\n",
       "      <th></th>\n",
       "      <th>id</th>\n",
       "      <th>Gender</th>\n",
       "      <th>Customer Type</th>\n",
       "      <th>Age</th>\n",
       "      <th>Type of Travel</th>\n",
       "      <th>Class</th>\n",
       "      <th>Flight Distance</th>\n",
       "      <th>Inflight wifi service</th>\n",
       "      <th>Departure/Arrival time convenient</th>\n",
       "      <th>Ease of Online booking</th>\n",
       "      <th>...</th>\n",
       "      <th>Seat comfort</th>\n",
       "      <th>Inflight entertainment</th>\n",
       "      <th>On-board service</th>\n",
       "      <th>Leg room service</th>\n",
       "      <th>Baggage handling</th>\n",
       "      <th>Checkin service</th>\n",
       "      <th>Inflight service</th>\n",
       "      <th>Cleanliness</th>\n",
       "      <th>Departure Delay in Minutes</th>\n",
       "      <th>Arrival Delay in Minutes</th>\n",
       "    </tr>\n",
       "  </thead>\n",
       "  <tbody>\n",
       "    <tr>\n",
       "      <th>0</th>\n",
       "      <td>1</td>\n",
       "      <td>Female</td>\n",
       "      <td>Loyal Customer</td>\n",
       "      <td>25</td>\n",
       "      <td>Personal Travel</td>\n",
       "      <td>Eco</td>\n",
       "      <td>2704</td>\n",
       "      <td>2</td>\n",
       "      <td>2</td>\n",
       "      <td>2</td>\n",
       "      <td>...</td>\n",
       "      <td>5</td>\n",
       "      <td>2</td>\n",
       "      <td>4</td>\n",
       "      <td>4</td>\n",
       "      <td>3</td>\n",
       "      <td>5</td>\n",
       "      <td>1</td>\n",
       "      <td>5</td>\n",
       "      <td>152</td>\n",
       "      <td>191.0</td>\n",
       "    </tr>\n",
       "    <tr>\n",
       "      <th>1</th>\n",
       "      <td>2</td>\n",
       "      <td>Female</td>\n",
       "      <td>Loyal Customer</td>\n",
       "      <td>49</td>\n",
       "      <td>Business travel</td>\n",
       "      <td>Business</td>\n",
       "      <td>1623</td>\n",
       "      <td>1</td>\n",
       "      <td>1</td>\n",
       "      <td>1</td>\n",
       "      <td>...</td>\n",
       "      <td>4</td>\n",
       "      <td>2</td>\n",
       "      <td>2</td>\n",
       "      <td>2</td>\n",
       "      <td>2</td>\n",
       "      <td>4</td>\n",
       "      <td>2</td>\n",
       "      <td>3</td>\n",
       "      <td>60</td>\n",
       "      <td>52.0</td>\n",
       "    </tr>\n",
       "    <tr>\n",
       "      <th>2</th>\n",
       "      <td>3</td>\n",
       "      <td>Male</td>\n",
       "      <td>Loyal Customer</td>\n",
       "      <td>51</td>\n",
       "      <td>Business travel</td>\n",
       "      <td>Business</td>\n",
       "      <td>338</td>\n",
       "      <td>4</td>\n",
       "      <td>4</td>\n",
       "      <td>4</td>\n",
       "      <td>...</td>\n",
       "      <td>5</td>\n",
       "      <td>5</td>\n",
       "      <td>5</td>\n",
       "      <td>5</td>\n",
       "      <td>5</td>\n",
       "      <td>4</td>\n",
       "      <td>5</td>\n",
       "      <td>4</td>\n",
       "      <td>0</td>\n",
       "      <td>0.0</td>\n",
       "    </tr>\n",
       "    <tr>\n",
       "      <th>3</th>\n",
       "      <td>4</td>\n",
       "      <td>Male</td>\n",
       "      <td>Loyal Customer</td>\n",
       "      <td>34</td>\n",
       "      <td>Business travel</td>\n",
       "      <td>Eco Plus</td>\n",
       "      <td>95</td>\n",
       "      <td>0</td>\n",
       "      <td>0</td>\n",
       "      <td>0</td>\n",
       "      <td>...</td>\n",
       "      <td>1</td>\n",
       "      <td>5</td>\n",
       "      <td>4</td>\n",
       "      <td>4</td>\n",
       "      <td>1</td>\n",
       "      <td>3</td>\n",
       "      <td>3</td>\n",
       "      <td>5</td>\n",
       "      <td>0</td>\n",
       "      <td>0.0</td>\n",
       "    </tr>\n",
       "    <tr>\n",
       "      <th>4</th>\n",
       "      <td>5</td>\n",
       "      <td>Male</td>\n",
       "      <td>Loyal Customer</td>\n",
       "      <td>34</td>\n",
       "      <td>Personal Travel</td>\n",
       "      <td>Eco</td>\n",
       "      <td>602</td>\n",
       "      <td>4</td>\n",
       "      <td>4</td>\n",
       "      <td>4</td>\n",
       "      <td>...</td>\n",
       "      <td>5</td>\n",
       "      <td>5</td>\n",
       "      <td>4</td>\n",
       "      <td>5</td>\n",
       "      <td>4</td>\n",
       "      <td>5</td>\n",
       "      <td>5</td>\n",
       "      <td>5</td>\n",
       "      <td>130</td>\n",
       "      <td>140.0</td>\n",
       "    </tr>\n",
       "  </tbody>\n",
       "</table>\n",
       "<p>5 rows × 23 columns</p>\n",
       "</div>"
      ],
      "text/plain": [
       "   id  Gender   Customer Type  Age   Type of Travel     Class  \\\n",
       "0   1  Female  Loyal Customer   25  Personal Travel       Eco   \n",
       "1   2  Female  Loyal Customer   49  Business travel  Business   \n",
       "2   3    Male  Loyal Customer   51  Business travel  Business   \n",
       "3   4    Male  Loyal Customer   34  Business travel  Eco Plus   \n",
       "4   5    Male  Loyal Customer   34  Personal Travel       Eco   \n",
       "\n",
       "   Flight Distance  Inflight wifi service  Departure/Arrival time convenient  \\\n",
       "0             2704                      2                                  2   \n",
       "1             1623                      1                                  1   \n",
       "2              338                      4                                  4   \n",
       "3               95                      0                                  0   \n",
       "4              602                      4                                  4   \n",
       "\n",
       "   Ease of Online booking  ...  Seat comfort  Inflight entertainment  \\\n",
       "0                       2  ...             5                       2   \n",
       "1                       1  ...             4                       2   \n",
       "2                       4  ...             5                       5   \n",
       "3                       0  ...             1                       5   \n",
       "4                       4  ...             5                       5   \n",
       "\n",
       "   On-board service  Leg room service  Baggage handling  Checkin service  \\\n",
       "0                 4                 4                 3                5   \n",
       "1                 2                 2                 2                4   \n",
       "2                 5                 5                 5                4   \n",
       "3                 4                 4                 1                3   \n",
       "4                 4                 5                 4                5   \n",
       "\n",
       "   Inflight service  Cleanliness  Departure Delay in Minutes  \\\n",
       "0                 1            5                         152   \n",
       "1                 2            3                          60   \n",
       "2                 5            4                           0   \n",
       "3                 3            5                           0   \n",
       "4                 5            5                         130   \n",
       "\n",
       "   Arrival Delay in Minutes  \n",
       "0                     191.0  \n",
       "1                      52.0  \n",
       "2                       0.0  \n",
       "3                       0.0  \n",
       "4                     140.0  \n",
       "\n",
       "[5 rows x 23 columns]"
      ]
     },
     "execution_count": 5,
     "metadata": {},
     "output_type": "execute_result"
    }
   ],
   "source": [
    "test.head()"
   ]
  },
  {
   "cell_type": "code",
   "execution_count": 6,
   "id": "33570751",
   "metadata": {
    "execution": {
     "iopub.execute_input": "2024-10-15T20:23:12.344014Z",
     "iopub.status.busy": "2024-10-15T20:23:12.343594Z",
     "iopub.status.idle": "2024-10-15T20:23:12.350360Z",
     "shell.execute_reply": "2024-10-15T20:23:12.349293Z"
    },
    "papermill": {
     "duration": 0.020474,
     "end_time": "2024-10-15T20:23:12.352802",
     "exception": false,
     "start_time": "2024-10-15T20:23:12.332328",
     "status": "completed"
    },
    "tags": []
   },
   "outputs": [
    {
     "data": {
      "text/plain": [
       "(10000, 24)"
      ]
     },
     "execution_count": 6,
     "metadata": {},
     "output_type": "execute_result"
    }
   ],
   "source": [
    "train.shape"
   ]
  },
  {
   "cell_type": "code",
   "execution_count": 7,
   "id": "e25349e1",
   "metadata": {
    "execution": {
     "iopub.execute_input": "2024-10-15T20:23:12.374512Z",
     "iopub.status.busy": "2024-10-15T20:23:12.373756Z",
     "iopub.status.idle": "2024-10-15T20:23:12.380092Z",
     "shell.execute_reply": "2024-10-15T20:23:12.379164Z"
    },
    "papermill": {
     "duration": 0.019427,
     "end_time": "2024-10-15T20:23:12.382214",
     "exception": false,
     "start_time": "2024-10-15T20:23:12.362787",
     "status": "completed"
    },
    "tags": []
   },
   "outputs": [
    {
     "data": {
      "text/plain": [
       "(4000, 23)"
      ]
     },
     "execution_count": 7,
     "metadata": {},
     "output_type": "execute_result"
    }
   ],
   "source": [
    "test.shape"
   ]
  },
  {
   "cell_type": "code",
   "execution_count": 8,
   "id": "69a451b1",
   "metadata": {
    "execution": {
     "iopub.execute_input": "2024-10-15T20:23:12.403994Z",
     "iopub.status.busy": "2024-10-15T20:23:12.402935Z",
     "iopub.status.idle": "2024-10-15T20:23:12.429807Z",
     "shell.execute_reply": "2024-10-15T20:23:12.428516Z"
    },
    "papermill": {
     "duration": 0.040013,
     "end_time": "2024-10-15T20:23:12.432039",
     "exception": false,
     "start_time": "2024-10-15T20:23:12.392026",
     "status": "completed"
    },
    "tags": []
   },
   "outputs": [
    {
     "name": "stdout",
     "output_type": "stream",
     "text": [
      "<class 'pandas.core.frame.DataFrame'>\n",
      "RangeIndex: 10000 entries, 0 to 9999\n",
      "Data columns (total 24 columns):\n",
      " #   Column                             Non-Null Count  Dtype  \n",
      "---  ------                             --------------  -----  \n",
      " 0   id                                 10000 non-null  int64  \n",
      " 1   Gender                             10000 non-null  object \n",
      " 2   Customer Type                      10000 non-null  object \n",
      " 3   Age                                10000 non-null  int64  \n",
      " 4   Type of Travel                     10000 non-null  object \n",
      " 5   Class                              10000 non-null  object \n",
      " 6   Flight Distance                    10000 non-null  int64  \n",
      " 7   Inflight wifi service              10000 non-null  int64  \n",
      " 8   Departure/Arrival time convenient  10000 non-null  int64  \n",
      " 9   Ease of Online booking             10000 non-null  int64  \n",
      " 10  Gate location                      10000 non-null  int64  \n",
      " 11  Food and drink                     10000 non-null  int64  \n",
      " 12  Online boarding                    10000 non-null  int64  \n",
      " 13  Seat comfort                       10000 non-null  int64  \n",
      " 14  Inflight entertainment             10000 non-null  int64  \n",
      " 15  On-board service                   10000 non-null  int64  \n",
      " 16  Leg room service                   10000 non-null  int64  \n",
      " 17  Baggage handling                   10000 non-null  int64  \n",
      " 18  Checkin service                    10000 non-null  int64  \n",
      " 19  Inflight service                   10000 non-null  int64  \n",
      " 20  Cleanliness                        10000 non-null  int64  \n",
      " 21  Departure Delay in Minutes         10000 non-null  int64  \n",
      " 22  Arrival Delay in Minutes           9972 non-null   float64\n",
      " 23  satisfaction                       10000 non-null  int64  \n",
      "dtypes: float64(1), int64(19), object(4)\n",
      "memory usage: 1.8+ MB\n"
     ]
    }
   ],
   "source": [
    "train.info()"
   ]
  },
  {
   "cell_type": "code",
   "execution_count": 9,
   "id": "3cc52549",
   "metadata": {
    "execution": {
     "iopub.execute_input": "2024-10-15T20:23:12.454128Z",
     "iopub.status.busy": "2024-10-15T20:23:12.453222Z",
     "iopub.status.idle": "2024-10-15T20:23:12.466247Z",
     "shell.execute_reply": "2024-10-15T20:23:12.464947Z"
    },
    "papermill": {
     "duration": 0.026585,
     "end_time": "2024-10-15T20:23:12.468531",
     "exception": false,
     "start_time": "2024-10-15T20:23:12.441946",
     "status": "completed"
    },
    "tags": []
   },
   "outputs": [
    {
     "name": "stdout",
     "output_type": "stream",
     "text": [
      "<class 'pandas.core.frame.DataFrame'>\n",
      "RangeIndex: 4000 entries, 0 to 3999\n",
      "Data columns (total 23 columns):\n",
      " #   Column                             Non-Null Count  Dtype  \n",
      "---  ------                             --------------  -----  \n",
      " 0   id                                 4000 non-null   int64  \n",
      " 1   Gender                             4000 non-null   object \n",
      " 2   Customer Type                      4000 non-null   object \n",
      " 3   Age                                4000 non-null   int64  \n",
      " 4   Type of Travel                     4000 non-null   object \n",
      " 5   Class                              4000 non-null   object \n",
      " 6   Flight Distance                    4000 non-null   int64  \n",
      " 7   Inflight wifi service              4000 non-null   int64  \n",
      " 8   Departure/Arrival time convenient  4000 non-null   int64  \n",
      " 9   Ease of Online booking             4000 non-null   int64  \n",
      " 10  Gate location                      4000 non-null   int64  \n",
      " 11  Food and drink                     4000 non-null   int64  \n",
      " 12  Online boarding                    4000 non-null   int64  \n",
      " 13  Seat comfort                       4000 non-null   int64  \n",
      " 14  Inflight entertainment             4000 non-null   int64  \n",
      " 15  On-board service                   4000 non-null   int64  \n",
      " 16  Leg room service                   4000 non-null   int64  \n",
      " 17  Baggage handling                   4000 non-null   int64  \n",
      " 18  Checkin service                    4000 non-null   int64  \n",
      " 19  Inflight service                   4000 non-null   int64  \n",
      " 20  Cleanliness                        4000 non-null   int64  \n",
      " 21  Departure Delay in Minutes         4000 non-null   int64  \n",
      " 22  Arrival Delay in Minutes           3981 non-null   float64\n",
      "dtypes: float64(1), int64(18), object(4)\n",
      "memory usage: 718.9+ KB\n"
     ]
    }
   ],
   "source": [
    "test.info()"
   ]
  },
  {
   "cell_type": "code",
   "execution_count": 10,
   "id": "70029c18",
   "metadata": {
    "execution": {
     "iopub.execute_input": "2024-10-15T20:23:12.491815Z",
     "iopub.status.busy": "2024-10-15T20:23:12.490600Z",
     "iopub.status.idle": "2024-10-15T20:23:12.501411Z",
     "shell.execute_reply": "2024-10-15T20:23:12.500440Z"
    },
    "papermill": {
     "duration": 0.024533,
     "end_time": "2024-10-15T20:23:12.503606",
     "exception": false,
     "start_time": "2024-10-15T20:23:12.479073",
     "status": "completed"
    },
    "tags": []
   },
   "outputs": [
    {
     "data": {
      "text/plain": [
       "id                                    0\n",
       "Gender                                0\n",
       "Customer Type                         0\n",
       "Age                                   0\n",
       "Type of Travel                        0\n",
       "Class                                 0\n",
       "Flight Distance                       0\n",
       "Inflight wifi service                 0\n",
       "Departure/Arrival time convenient     0\n",
       "Ease of Online booking                0\n",
       "Gate location                         0\n",
       "Food and drink                        0\n",
       "Online boarding                       0\n",
       "Seat comfort                          0\n",
       "Inflight entertainment                0\n",
       "On-board service                      0\n",
       "Leg room service                      0\n",
       "Baggage handling                      0\n",
       "Checkin service                       0\n",
       "Inflight service                      0\n",
       "Cleanliness                           0\n",
       "Departure Delay in Minutes            0\n",
       "Arrival Delay in Minutes             28\n",
       "satisfaction                          0\n",
       "dtype: int64"
      ]
     },
     "execution_count": 10,
     "metadata": {},
     "output_type": "execute_result"
    }
   ],
   "source": [
    "train.isnull().sum()"
   ]
  },
  {
   "cell_type": "code",
   "execution_count": 11,
   "id": "950aa2f9",
   "metadata": {
    "execution": {
     "iopub.execute_input": "2024-10-15T20:23:12.525857Z",
     "iopub.status.busy": "2024-10-15T20:23:12.525467Z",
     "iopub.status.idle": "2024-10-15T20:23:12.535144Z",
     "shell.execute_reply": "2024-10-15T20:23:12.534018Z"
    },
    "papermill": {
     "duration": 0.023676,
     "end_time": "2024-10-15T20:23:12.537678",
     "exception": false,
     "start_time": "2024-10-15T20:23:12.514002",
     "status": "completed"
    },
    "tags": []
   },
   "outputs": [
    {
     "data": {
      "text/plain": [
       "id                                    0\n",
       "Gender                                0\n",
       "Customer Type                         0\n",
       "Age                                   0\n",
       "Type of Travel                        0\n",
       "Class                                 0\n",
       "Flight Distance                       0\n",
       "Inflight wifi service                 0\n",
       "Departure/Arrival time convenient     0\n",
       "Ease of Online booking                0\n",
       "Gate location                         0\n",
       "Food and drink                        0\n",
       "Online boarding                       0\n",
       "Seat comfort                          0\n",
       "Inflight entertainment                0\n",
       "On-board service                      0\n",
       "Leg room service                      0\n",
       "Baggage handling                      0\n",
       "Checkin service                       0\n",
       "Inflight service                      0\n",
       "Cleanliness                           0\n",
       "Departure Delay in Minutes            0\n",
       "Arrival Delay in Minutes             19\n",
       "dtype: int64"
      ]
     },
     "execution_count": 11,
     "metadata": {},
     "output_type": "execute_result"
    }
   ],
   "source": [
    "test.isnull().sum()"
   ]
  },
  {
   "cell_type": "code",
   "execution_count": 12,
   "id": "7f9379a2",
   "metadata": {
    "execution": {
     "iopub.execute_input": "2024-10-15T20:23:12.560956Z",
     "iopub.status.busy": "2024-10-15T20:23:12.560561Z",
     "iopub.status.idle": "2024-10-15T20:23:12.625802Z",
     "shell.execute_reply": "2024-10-15T20:23:12.624774Z"
    },
    "papermill": {
     "duration": 0.079219,
     "end_time": "2024-10-15T20:23:12.628146",
     "exception": false,
     "start_time": "2024-10-15T20:23:12.548927",
     "status": "completed"
    },
    "tags": []
   },
   "outputs": [
    {
     "data": {
      "text/html": [
       "<div>\n",
       "<style scoped>\n",
       "    .dataframe tbody tr th:only-of-type {\n",
       "        vertical-align: middle;\n",
       "    }\n",
       "\n",
       "    .dataframe tbody tr th {\n",
       "        vertical-align: top;\n",
       "    }\n",
       "\n",
       "    .dataframe thead th {\n",
       "        text-align: right;\n",
       "    }\n",
       "</style>\n",
       "<table border=\"1\" class=\"dataframe\">\n",
       "  <thead>\n",
       "    <tr style=\"text-align: right;\">\n",
       "      <th></th>\n",
       "      <th>id</th>\n",
       "      <th>Age</th>\n",
       "      <th>Flight Distance</th>\n",
       "      <th>Inflight wifi service</th>\n",
       "      <th>Departure/Arrival time convenient</th>\n",
       "      <th>Ease of Online booking</th>\n",
       "      <th>Gate location</th>\n",
       "      <th>Food and drink</th>\n",
       "      <th>Online boarding</th>\n",
       "      <th>Seat comfort</th>\n",
       "      <th>Inflight entertainment</th>\n",
       "      <th>On-board service</th>\n",
       "      <th>Leg room service</th>\n",
       "      <th>Baggage handling</th>\n",
       "      <th>Checkin service</th>\n",
       "      <th>Inflight service</th>\n",
       "      <th>Cleanliness</th>\n",
       "      <th>Departure Delay in Minutes</th>\n",
       "      <th>Arrival Delay in Minutes</th>\n",
       "      <th>satisfaction</th>\n",
       "    </tr>\n",
       "  </thead>\n",
       "  <tbody>\n",
       "    <tr>\n",
       "      <th>count</th>\n",
       "      <td>10000.00000</td>\n",
       "      <td>10000.000000</td>\n",
       "      <td>10000.000000</td>\n",
       "      <td>10000.000000</td>\n",
       "      <td>10000.000000</td>\n",
       "      <td>10000.000000</td>\n",
       "      <td>10000.000000</td>\n",
       "      <td>10000.000000</td>\n",
       "      <td>10000.000000</td>\n",
       "      <td>10000.00000</td>\n",
       "      <td>10000.000000</td>\n",
       "      <td>10000.000000</td>\n",
       "      <td>10000.000000</td>\n",
       "      <td>10000.000000</td>\n",
       "      <td>10000.000000</td>\n",
       "      <td>10000.000000</td>\n",
       "      <td>10000.000000</td>\n",
       "      <td>10000.000000</td>\n",
       "      <td>9972.000000</td>\n",
       "      <td>10000.000000</td>\n",
       "    </tr>\n",
       "    <tr>\n",
       "      <th>mean</th>\n",
       "      <td>5000.50000</td>\n",
       "      <td>39.375100</td>\n",
       "      <td>1229.556200</td>\n",
       "      <td>2.780200</td>\n",
       "      <td>3.065100</td>\n",
       "      <td>2.797800</td>\n",
       "      <td>2.981000</td>\n",
       "      <td>3.214500</td>\n",
       "      <td>3.349100</td>\n",
       "      <td>3.49140</td>\n",
       "      <td>3.402900</td>\n",
       "      <td>3.454100</td>\n",
       "      <td>3.415700</td>\n",
       "      <td>3.676200</td>\n",
       "      <td>3.360600</td>\n",
       "      <td>3.680100</td>\n",
       "      <td>3.311100</td>\n",
       "      <td>14.429900</td>\n",
       "      <td>14.709888</td>\n",
       "      <td>0.500000</td>\n",
       "    </tr>\n",
       "    <tr>\n",
       "      <th>std</th>\n",
       "      <td>2886.89568</td>\n",
       "      <td>14.897959</td>\n",
       "      <td>1022.281958</td>\n",
       "      <td>1.362745</td>\n",
       "      <td>1.527316</td>\n",
       "      <td>1.421168</td>\n",
       "      <td>1.283278</td>\n",
       "      <td>1.333217</td>\n",
       "      <td>1.352779</td>\n",
       "      <td>1.31122</td>\n",
       "      <td>1.331822</td>\n",
       "      <td>1.274777</td>\n",
       "      <td>1.308765</td>\n",
       "      <td>1.189746</td>\n",
       "      <td>1.258462</td>\n",
       "      <td>1.175118</td>\n",
       "      <td>1.311217</td>\n",
       "      <td>39.659674</td>\n",
       "      <td>40.046355</td>\n",
       "      <td>0.500025</td>\n",
       "    </tr>\n",
       "    <tr>\n",
       "      <th>min</th>\n",
       "      <td>1.00000</td>\n",
       "      <td>7.000000</td>\n",
       "      <td>31.000000</td>\n",
       "      <td>0.000000</td>\n",
       "      <td>0.000000</td>\n",
       "      <td>0.000000</td>\n",
       "      <td>1.000000</td>\n",
       "      <td>0.000000</td>\n",
       "      <td>0.000000</td>\n",
       "      <td>0.00000</td>\n",
       "      <td>0.000000</td>\n",
       "      <td>1.000000</td>\n",
       "      <td>0.000000</td>\n",
       "      <td>1.000000</td>\n",
       "      <td>0.000000</td>\n",
       "      <td>1.000000</td>\n",
       "      <td>0.000000</td>\n",
       "      <td>0.000000</td>\n",
       "      <td>0.000000</td>\n",
       "      <td>0.000000</td>\n",
       "    </tr>\n",
       "    <tr>\n",
       "      <th>25%</th>\n",
       "      <td>2500.75000</td>\n",
       "      <td>27.000000</td>\n",
       "      <td>421.000000</td>\n",
       "      <td>2.000000</td>\n",
       "      <td>2.000000</td>\n",
       "      <td>2.000000</td>\n",
       "      <td>2.000000</td>\n",
       "      <td>2.000000</td>\n",
       "      <td>2.000000</td>\n",
       "      <td>3.00000</td>\n",
       "      <td>2.000000</td>\n",
       "      <td>3.000000</td>\n",
       "      <td>2.000000</td>\n",
       "      <td>3.000000</td>\n",
       "      <td>3.000000</td>\n",
       "      <td>3.000000</td>\n",
       "      <td>2.000000</td>\n",
       "      <td>0.000000</td>\n",
       "      <td>0.000000</td>\n",
       "      <td>0.000000</td>\n",
       "    </tr>\n",
       "    <tr>\n",
       "      <th>50%</th>\n",
       "      <td>5000.50000</td>\n",
       "      <td>40.000000</td>\n",
       "      <td>863.500000</td>\n",
       "      <td>3.000000</td>\n",
       "      <td>3.000000</td>\n",
       "      <td>3.000000</td>\n",
       "      <td>3.000000</td>\n",
       "      <td>3.000000</td>\n",
       "      <td>4.000000</td>\n",
       "      <td>4.00000</td>\n",
       "      <td>4.000000</td>\n",
       "      <td>4.000000</td>\n",
       "      <td>4.000000</td>\n",
       "      <td>4.000000</td>\n",
       "      <td>3.000000</td>\n",
       "      <td>4.000000</td>\n",
       "      <td>3.000000</td>\n",
       "      <td>0.000000</td>\n",
       "      <td>0.000000</td>\n",
       "      <td>0.500000</td>\n",
       "    </tr>\n",
       "    <tr>\n",
       "      <th>75%</th>\n",
       "      <td>7500.25000</td>\n",
       "      <td>51.000000</td>\n",
       "      <td>1806.750000</td>\n",
       "      <td>4.000000</td>\n",
       "      <td>4.000000</td>\n",
       "      <td>4.000000</td>\n",
       "      <td>4.000000</td>\n",
       "      <td>4.000000</td>\n",
       "      <td>4.000000</td>\n",
       "      <td>5.00000</td>\n",
       "      <td>5.000000</td>\n",
       "      <td>4.000000</td>\n",
       "      <td>5.000000</td>\n",
       "      <td>5.000000</td>\n",
       "      <td>4.000000</td>\n",
       "      <td>5.000000</td>\n",
       "      <td>4.000000</td>\n",
       "      <td>12.000000</td>\n",
       "      <td>12.000000</td>\n",
       "      <td>1.000000</td>\n",
       "    </tr>\n",
       "    <tr>\n",
       "      <th>max</th>\n",
       "      <td>10000.00000</td>\n",
       "      <td>80.000000</td>\n",
       "      <td>4983.000000</td>\n",
       "      <td>5.000000</td>\n",
       "      <td>5.000000</td>\n",
       "      <td>5.000000</td>\n",
       "      <td>5.000000</td>\n",
       "      <td>5.000000</td>\n",
       "      <td>5.000000</td>\n",
       "      <td>5.00000</td>\n",
       "      <td>5.000000</td>\n",
       "      <td>5.000000</td>\n",
       "      <td>5.000000</td>\n",
       "      <td>5.000000</td>\n",
       "      <td>5.000000</td>\n",
       "      <td>5.000000</td>\n",
       "      <td>5.000000</td>\n",
       "      <td>921.000000</td>\n",
       "      <td>924.000000</td>\n",
       "      <td>1.000000</td>\n",
       "    </tr>\n",
       "  </tbody>\n",
       "</table>\n",
       "</div>"
      ],
      "text/plain": [
       "                id           Age  Flight Distance  Inflight wifi service  \\\n",
       "count  10000.00000  10000.000000     10000.000000           10000.000000   \n",
       "mean    5000.50000     39.375100      1229.556200               2.780200   \n",
       "std     2886.89568     14.897959      1022.281958               1.362745   \n",
       "min        1.00000      7.000000        31.000000               0.000000   \n",
       "25%     2500.75000     27.000000       421.000000               2.000000   \n",
       "50%     5000.50000     40.000000       863.500000               3.000000   \n",
       "75%     7500.25000     51.000000      1806.750000               4.000000   \n",
       "max    10000.00000     80.000000      4983.000000               5.000000   \n",
       "\n",
       "       Departure/Arrival time convenient  Ease of Online booking  \\\n",
       "count                       10000.000000            10000.000000   \n",
       "mean                            3.065100                2.797800   \n",
       "std                             1.527316                1.421168   \n",
       "min                             0.000000                0.000000   \n",
       "25%                             2.000000                2.000000   \n",
       "50%                             3.000000                3.000000   \n",
       "75%                             4.000000                4.000000   \n",
       "max                             5.000000                5.000000   \n",
       "\n",
       "       Gate location  Food and drink  Online boarding  Seat comfort  \\\n",
       "count   10000.000000    10000.000000     10000.000000   10000.00000   \n",
       "mean        2.981000        3.214500         3.349100       3.49140   \n",
       "std         1.283278        1.333217         1.352779       1.31122   \n",
       "min         1.000000        0.000000         0.000000       0.00000   \n",
       "25%         2.000000        2.000000         2.000000       3.00000   \n",
       "50%         3.000000        3.000000         4.000000       4.00000   \n",
       "75%         4.000000        4.000000         4.000000       5.00000   \n",
       "max         5.000000        5.000000         5.000000       5.00000   \n",
       "\n",
       "       Inflight entertainment  On-board service  Leg room service  \\\n",
       "count            10000.000000      10000.000000      10000.000000   \n",
       "mean                 3.402900          3.454100          3.415700   \n",
       "std                  1.331822          1.274777          1.308765   \n",
       "min                  0.000000          1.000000          0.000000   \n",
       "25%                  2.000000          3.000000          2.000000   \n",
       "50%                  4.000000          4.000000          4.000000   \n",
       "75%                  5.000000          4.000000          5.000000   \n",
       "max                  5.000000          5.000000          5.000000   \n",
       "\n",
       "       Baggage handling  Checkin service  Inflight service   Cleanliness  \\\n",
       "count      10000.000000     10000.000000      10000.000000  10000.000000   \n",
       "mean           3.676200         3.360600          3.680100      3.311100   \n",
       "std            1.189746         1.258462          1.175118      1.311217   \n",
       "min            1.000000         0.000000          1.000000      0.000000   \n",
       "25%            3.000000         3.000000          3.000000      2.000000   \n",
       "50%            4.000000         3.000000          4.000000      3.000000   \n",
       "75%            5.000000         4.000000          5.000000      4.000000   \n",
       "max            5.000000         5.000000          5.000000      5.000000   \n",
       "\n",
       "       Departure Delay in Minutes  Arrival Delay in Minutes  satisfaction  \n",
       "count                10000.000000               9972.000000  10000.000000  \n",
       "mean                    14.429900                 14.709888      0.500000  \n",
       "std                     39.659674                 40.046355      0.500025  \n",
       "min                      0.000000                  0.000000      0.000000  \n",
       "25%                      0.000000                  0.000000      0.000000  \n",
       "50%                      0.000000                  0.000000      0.500000  \n",
       "75%                     12.000000                 12.000000      1.000000  \n",
       "max                    921.000000                924.000000      1.000000  "
      ]
     },
     "execution_count": 12,
     "metadata": {},
     "output_type": "execute_result"
    }
   ],
   "source": [
    "train.describe()"
   ]
  },
  {
   "cell_type": "code",
   "execution_count": 13,
   "id": "3dea3355",
   "metadata": {
    "execution": {
     "iopub.execute_input": "2024-10-15T20:23:12.651120Z",
     "iopub.status.busy": "2024-10-15T20:23:12.650668Z",
     "iopub.status.idle": "2024-10-15T20:23:12.706162Z",
     "shell.execute_reply": "2024-10-15T20:23:12.705045Z"
    },
    "papermill": {
     "duration": 0.069574,
     "end_time": "2024-10-15T20:23:12.708443",
     "exception": false,
     "start_time": "2024-10-15T20:23:12.638869",
     "status": "completed"
    },
    "tags": []
   },
   "outputs": [
    {
     "data": {
      "text/html": [
       "<div>\n",
       "<style scoped>\n",
       "    .dataframe tbody tr th:only-of-type {\n",
       "        vertical-align: middle;\n",
       "    }\n",
       "\n",
       "    .dataframe tbody tr th {\n",
       "        vertical-align: top;\n",
       "    }\n",
       "\n",
       "    .dataframe thead th {\n",
       "        text-align: right;\n",
       "    }\n",
       "</style>\n",
       "<table border=\"1\" class=\"dataframe\">\n",
       "  <thead>\n",
       "    <tr style=\"text-align: right;\">\n",
       "      <th></th>\n",
       "      <th>id</th>\n",
       "      <th>Age</th>\n",
       "      <th>Flight Distance</th>\n",
       "      <th>Inflight wifi service</th>\n",
       "      <th>Departure/Arrival time convenient</th>\n",
       "      <th>Ease of Online booking</th>\n",
       "      <th>Gate location</th>\n",
       "      <th>Food and drink</th>\n",
       "      <th>Online boarding</th>\n",
       "      <th>Seat comfort</th>\n",
       "      <th>Inflight entertainment</th>\n",
       "      <th>On-board service</th>\n",
       "      <th>Leg room service</th>\n",
       "      <th>Baggage handling</th>\n",
       "      <th>Checkin service</th>\n",
       "      <th>Inflight service</th>\n",
       "      <th>Cleanliness</th>\n",
       "      <th>Departure Delay in Minutes</th>\n",
       "      <th>Arrival Delay in Minutes</th>\n",
       "    </tr>\n",
       "  </thead>\n",
       "  <tbody>\n",
       "    <tr>\n",
       "      <th>count</th>\n",
       "      <td>4000.000000</td>\n",
       "      <td>4000.000000</td>\n",
       "      <td>4000.000000</td>\n",
       "      <td>4000.000000</td>\n",
       "      <td>4000.000000</td>\n",
       "      <td>4000.000000</td>\n",
       "      <td>4000.000000</td>\n",
       "      <td>4000.000000</td>\n",
       "      <td>4000.000000</td>\n",
       "      <td>4000.000000</td>\n",
       "      <td>4000.000000</td>\n",
       "      <td>4000.000000</td>\n",
       "      <td>4000.000000</td>\n",
       "      <td>4000.000000</td>\n",
       "      <td>4000.000000</td>\n",
       "      <td>4000.000000</td>\n",
       "      <td>4000.000000</td>\n",
       "      <td>4000.00000</td>\n",
       "      <td>3981.000000</td>\n",
       "    </tr>\n",
       "    <tr>\n",
       "      <th>mean</th>\n",
       "      <td>2000.500000</td>\n",
       "      <td>39.886750</td>\n",
       "      <td>1217.960000</td>\n",
       "      <td>2.768250</td>\n",
       "      <td>3.021250</td>\n",
       "      <td>2.788500</td>\n",
       "      <td>2.979500</td>\n",
       "      <td>3.279750</td>\n",
       "      <td>3.358000</td>\n",
       "      <td>3.514250</td>\n",
       "      <td>3.412000</td>\n",
       "      <td>3.405750</td>\n",
       "      <td>3.379750</td>\n",
       "      <td>3.631250</td>\n",
       "      <td>3.334500</td>\n",
       "      <td>3.679500</td>\n",
       "      <td>3.349750</td>\n",
       "      <td>13.86525</td>\n",
       "      <td>14.157749</td>\n",
       "    </tr>\n",
       "    <tr>\n",
       "      <th>std</th>\n",
       "      <td>1154.844867</td>\n",
       "      <td>14.748519</td>\n",
       "      <td>1012.709063</td>\n",
       "      <td>1.380948</td>\n",
       "      <td>1.554478</td>\n",
       "      <td>1.448721</td>\n",
       "      <td>1.286466</td>\n",
       "      <td>1.331703</td>\n",
       "      <td>1.350664</td>\n",
       "      <td>1.319179</td>\n",
       "      <td>1.322382</td>\n",
       "      <td>1.275352</td>\n",
       "      <td>1.346103</td>\n",
       "      <td>1.187487</td>\n",
       "      <td>1.257778</td>\n",
       "      <td>1.184749</td>\n",
       "      <td>1.319796</td>\n",
       "      <td>35.48267</td>\n",
       "      <td>35.831589</td>\n",
       "    </tr>\n",
       "    <tr>\n",
       "      <th>min</th>\n",
       "      <td>1.000000</td>\n",
       "      <td>7.000000</td>\n",
       "      <td>67.000000</td>\n",
       "      <td>0.000000</td>\n",
       "      <td>0.000000</td>\n",
       "      <td>0.000000</td>\n",
       "      <td>1.000000</td>\n",
       "      <td>0.000000</td>\n",
       "      <td>0.000000</td>\n",
       "      <td>1.000000</td>\n",
       "      <td>1.000000</td>\n",
       "      <td>1.000000</td>\n",
       "      <td>0.000000</td>\n",
       "      <td>1.000000</td>\n",
       "      <td>1.000000</td>\n",
       "      <td>1.000000</td>\n",
       "      <td>1.000000</td>\n",
       "      <td>0.00000</td>\n",
       "      <td>0.000000</td>\n",
       "    </tr>\n",
       "    <tr>\n",
       "      <th>25%</th>\n",
       "      <td>1000.750000</td>\n",
       "      <td>27.000000</td>\n",
       "      <td>416.750000</td>\n",
       "      <td>2.000000</td>\n",
       "      <td>2.000000</td>\n",
       "      <td>2.000000</td>\n",
       "      <td>2.000000</td>\n",
       "      <td>2.000000</td>\n",
       "      <td>2.000000</td>\n",
       "      <td>3.000000</td>\n",
       "      <td>2.000000</td>\n",
       "      <td>3.000000</td>\n",
       "      <td>2.000000</td>\n",
       "      <td>3.000000</td>\n",
       "      <td>3.000000</td>\n",
       "      <td>3.000000</td>\n",
       "      <td>2.000000</td>\n",
       "      <td>0.00000</td>\n",
       "      <td>0.000000</td>\n",
       "    </tr>\n",
       "    <tr>\n",
       "      <th>50%</th>\n",
       "      <td>2000.500000</td>\n",
       "      <td>40.000000</td>\n",
       "      <td>868.000000</td>\n",
       "      <td>3.000000</td>\n",
       "      <td>3.000000</td>\n",
       "      <td>3.000000</td>\n",
       "      <td>3.000000</td>\n",
       "      <td>3.000000</td>\n",
       "      <td>4.000000</td>\n",
       "      <td>4.000000</td>\n",
       "      <td>4.000000</td>\n",
       "      <td>4.000000</td>\n",
       "      <td>4.000000</td>\n",
       "      <td>4.000000</td>\n",
       "      <td>3.000000</td>\n",
       "      <td>4.000000</td>\n",
       "      <td>4.000000</td>\n",
       "      <td>0.00000</td>\n",
       "      <td>0.000000</td>\n",
       "    </tr>\n",
       "    <tr>\n",
       "      <th>75%</th>\n",
       "      <td>3000.250000</td>\n",
       "      <td>51.000000</td>\n",
       "      <td>1750.000000</td>\n",
       "      <td>4.000000</td>\n",
       "      <td>4.000000</td>\n",
       "      <td>4.000000</td>\n",
       "      <td>4.000000</td>\n",
       "      <td>4.000000</td>\n",
       "      <td>4.000000</td>\n",
       "      <td>5.000000</td>\n",
       "      <td>5.000000</td>\n",
       "      <td>4.000000</td>\n",
       "      <td>5.000000</td>\n",
       "      <td>5.000000</td>\n",
       "      <td>4.000000</td>\n",
       "      <td>5.000000</td>\n",
       "      <td>4.000000</td>\n",
       "      <td>12.00000</td>\n",
       "      <td>12.000000</td>\n",
       "    </tr>\n",
       "    <tr>\n",
       "      <th>max</th>\n",
       "      <td>4000.000000</td>\n",
       "      <td>80.000000</td>\n",
       "      <td>4983.000000</td>\n",
       "      <td>5.000000</td>\n",
       "      <td>5.000000</td>\n",
       "      <td>5.000000</td>\n",
       "      <td>5.000000</td>\n",
       "      <td>5.000000</td>\n",
       "      <td>5.000000</td>\n",
       "      <td>5.000000</td>\n",
       "      <td>5.000000</td>\n",
       "      <td>5.000000</td>\n",
       "      <td>5.000000</td>\n",
       "      <td>5.000000</td>\n",
       "      <td>5.000000</td>\n",
       "      <td>5.000000</td>\n",
       "      <td>5.000000</td>\n",
       "      <td>624.00000</td>\n",
       "      <td>615.000000</td>\n",
       "    </tr>\n",
       "  </tbody>\n",
       "</table>\n",
       "</div>"
      ],
      "text/plain": [
       "                id          Age  Flight Distance  Inflight wifi service  \\\n",
       "count  4000.000000  4000.000000      4000.000000            4000.000000   \n",
       "mean   2000.500000    39.886750      1217.960000               2.768250   \n",
       "std    1154.844867    14.748519      1012.709063               1.380948   \n",
       "min       1.000000     7.000000        67.000000               0.000000   \n",
       "25%    1000.750000    27.000000       416.750000               2.000000   \n",
       "50%    2000.500000    40.000000       868.000000               3.000000   \n",
       "75%    3000.250000    51.000000      1750.000000               4.000000   \n",
       "max    4000.000000    80.000000      4983.000000               5.000000   \n",
       "\n",
       "       Departure/Arrival time convenient  Ease of Online booking  \\\n",
       "count                        4000.000000             4000.000000   \n",
       "mean                            3.021250                2.788500   \n",
       "std                             1.554478                1.448721   \n",
       "min                             0.000000                0.000000   \n",
       "25%                             2.000000                2.000000   \n",
       "50%                             3.000000                3.000000   \n",
       "75%                             4.000000                4.000000   \n",
       "max                             5.000000                5.000000   \n",
       "\n",
       "       Gate location  Food and drink  Online boarding  Seat comfort  \\\n",
       "count    4000.000000     4000.000000      4000.000000   4000.000000   \n",
       "mean        2.979500        3.279750         3.358000      3.514250   \n",
       "std         1.286466        1.331703         1.350664      1.319179   \n",
       "min         1.000000        0.000000         0.000000      1.000000   \n",
       "25%         2.000000        2.000000         2.000000      3.000000   \n",
       "50%         3.000000        3.000000         4.000000      4.000000   \n",
       "75%         4.000000        4.000000         4.000000      5.000000   \n",
       "max         5.000000        5.000000         5.000000      5.000000   \n",
       "\n",
       "       Inflight entertainment  On-board service  Leg room service  \\\n",
       "count             4000.000000       4000.000000       4000.000000   \n",
       "mean                 3.412000          3.405750          3.379750   \n",
       "std                  1.322382          1.275352          1.346103   \n",
       "min                  1.000000          1.000000          0.000000   \n",
       "25%                  2.000000          3.000000          2.000000   \n",
       "50%                  4.000000          4.000000          4.000000   \n",
       "75%                  5.000000          4.000000          5.000000   \n",
       "max                  5.000000          5.000000          5.000000   \n",
       "\n",
       "       Baggage handling  Checkin service  Inflight service  Cleanliness  \\\n",
       "count       4000.000000      4000.000000       4000.000000  4000.000000   \n",
       "mean           3.631250         3.334500          3.679500     3.349750   \n",
       "std            1.187487         1.257778          1.184749     1.319796   \n",
       "min            1.000000         1.000000          1.000000     1.000000   \n",
       "25%            3.000000         3.000000          3.000000     2.000000   \n",
       "50%            4.000000         3.000000          4.000000     4.000000   \n",
       "75%            5.000000         4.000000          5.000000     4.000000   \n",
       "max            5.000000         5.000000          5.000000     5.000000   \n",
       "\n",
       "       Departure Delay in Minutes  Arrival Delay in Minutes  \n",
       "count                  4000.00000               3981.000000  \n",
       "mean                     13.86525                 14.157749  \n",
       "std                      35.48267                 35.831589  \n",
       "min                       0.00000                  0.000000  \n",
       "25%                       0.00000                  0.000000  \n",
       "50%                       0.00000                  0.000000  \n",
       "75%                      12.00000                 12.000000  \n",
       "max                     624.00000                615.000000  "
      ]
     },
     "execution_count": 13,
     "metadata": {},
     "output_type": "execute_result"
    }
   ],
   "source": [
    "test.describe()"
   ]
  },
  {
   "cell_type": "code",
   "execution_count": 14,
   "id": "d24e26f6",
   "metadata": {
    "execution": {
     "iopub.execute_input": "2024-10-15T20:23:12.732778Z",
     "iopub.status.busy": "2024-10-15T20:23:12.731934Z",
     "iopub.status.idle": "2024-10-15T20:23:12.742610Z",
     "shell.execute_reply": "2024-10-15T20:23:12.741593Z"
    },
    "papermill": {
     "duration": 0.025447,
     "end_time": "2024-10-15T20:23:12.745061",
     "exception": false,
     "start_time": "2024-10-15T20:23:12.719614",
     "status": "completed"
    },
    "tags": []
   },
   "outputs": [
    {
     "data": {
      "text/plain": [
       "satisfaction\n",
       "0    50.0\n",
       "1    50.0\n",
       "Name: count, dtype: float64"
      ]
     },
     "execution_count": 14,
     "metadata": {},
     "output_type": "execute_result"
    }
   ],
   "source": [
    "satis_rate = train['satisfaction'].value_counts()/len(train)*100\n",
    "satis_rate"
   ]
  },
  {
   "cell_type": "code",
   "execution_count": 15,
   "id": "e7ef956b",
   "metadata": {
    "execution": {
     "iopub.execute_input": "2024-10-15T20:23:12.769094Z",
     "iopub.status.busy": "2024-10-15T20:23:12.768677Z",
     "iopub.status.idle": "2024-10-15T20:23:12.897556Z",
     "shell.execute_reply": "2024-10-15T20:23:12.896184Z"
    },
    "papermill": {
     "duration": 0.145481,
     "end_time": "2024-10-15T20:23:12.901775",
     "exception": false,
     "start_time": "2024-10-15T20:23:12.756294",
     "status": "completed"
    },
    "tags": []
   },
   "outputs": [
    {
     "data": {
      "image/png": "[encoded data removed]",
      "text/plain": [
       "<Figure size 300x300 with 1 Axes>"
      ]
     },
     "metadata": {},
     "output_type": "display_data"
    }
   ],
   "source": [
    "plt.figure(figsize=(3,3))\n",
    "plt.pie(satis_rate, labels=['Rozi','Norozi'])\n",
    "plt.show()"
   ]
  },
  {
   "cell_type": "code",
   "execution_count": 16,
   "id": "8cd58407",
   "metadata": {
    "execution": {
     "iopub.execute_input": "2024-10-15T20:23:12.942341Z",
     "iopub.status.busy": "2024-10-15T20:23:12.941230Z",
     "iopub.status.idle": "2024-10-15T20:23:17.274065Z",
     "shell.execute_reply": "2024-10-15T20:23:17.272877Z"
    },
    "papermill": {
     "duration": 4.356499,
     "end_time": "2024-10-15T20:23:17.277285",
     "exception": false,
     "start_time": "2024-10-15T20:23:12.920786",
     "status": "completed"
    },
    "tags": []
   },
   "outputs": [
    {
     "data": {
      "image/png": "[encoded data removed]",
      "text/plain": [
       "<Figure size 1800x1000 with 20 Axes>"
      ]
     },
     "metadata": {},
     "output_type": "display_data"
    }
   ],
   "source": [
    "%matplotlib inline\n",
    "train.hist(bins=50, figsize=(18, 10))\n",
    "plt.show()"
   ]
  },
  {
   "cell_type": "code",
   "execution_count": 17,
   "id": "cbacd031",
   "metadata": {
    "execution": {
     "iopub.execute_input": "2024-10-15T20:23:17.305933Z",
     "iopub.status.busy": "2024-10-15T20:23:17.305015Z",
     "iopub.status.idle": "2024-10-15T20:23:18.132712Z",
     "shell.execute_reply": "2024-10-15T20:23:18.131525Z"
    },
    "papermill": {
     "duration": 0.844754,
     "end_time": "2024-10-15T20:23:18.135150",
     "exception": false,
     "start_time": "2024-10-15T20:23:17.290396",
     "status": "completed"
    },
    "tags": []
   },
   "outputs": [
    {
     "name": "stderr",
     "output_type": "stream",
     "text": [
      "/opt/conda/lib/python3.10/site-packages/seaborn/_oldcore.py:1119: FutureWarning: use_inf_as_na option is deprecated and will be removed in a future version. Convert inf values to NaN before operating instead.\n",
      "  with pd.option_context('mode.use_inf_as_na', True):\n",
      "/opt/conda/lib/python3.10/site-packages/seaborn/_oldcore.py:1119: FutureWarning: use_inf_as_na option is deprecated and will be removed in a future version. Convert inf values to NaN before operating instead.\n",
      "  with pd.option_context('mode.use_inf_as_na', True):\n",
      "/opt/conda/lib/python3.10/site-packages/seaborn/_oldcore.py:1119: FutureWarning: use_inf_as_na option is deprecated and will be removed in a future version. Convert inf values to NaN before operating instead.\n",
      "  with pd.option_context('mode.use_inf_as_na', True):\n",
      "/opt/conda/lib/python3.10/site-packages/seaborn/_oldcore.py:1119: FutureWarning: use_inf_as_na option is deprecated and will be removed in a future version. Convert inf values to NaN before operating instead.\n",
      "  with pd.option_context('mode.use_inf_as_na', True):\n"
     ]
    },
    {
     "data": {
      "image/png": "[encoded data removed]",
      "text/plain": [
       "<Figure size 1200x400 with 3 Axes>"
      ]
     },
     "metadata": {},
     "output_type": "display_data"
    }
   ],
   "source": [
    "fig, axes = plt.subplots(1,3, figsize=(12,4))\n",
    "\n",
    "sns.histplot(x=\"Inflight service\", data=train, ax=axes[0])\n",
    "axes[0].set_title(\"Parvoz ichidagi xizmatdan qoniqish darajasi\")\n",
    "\n",
    "sns.histplot(x=\"On-board service\", data=train, ax=axes[1])\n",
    "axes[1].set_title(\"Bort xizmatidan qoniqish darajasi\")\n",
    "\n",
    "sns.histplot(x=\"Food and drink\", data=train, ax=axes[2])\n",
    "axes[2].set_title(\"Oziq-ovqat va ichimlikdan qoniqish darajasi\")\n",
    "\n",
    "sns.histplot(x=\"Seat comfort\", data=train, ax=axes[2])\n",
    "axes[2].set_title(\"O'rindiqning qulayligidan qoniqish darajasi\")\n",
    "\n",
    "\n",
    "plt.show()"
   ]
  },
  {
   "cell_type": "code",
   "execution_count": 18,
   "id": "d915371d",
   "metadata": {
    "execution": {
     "iopub.execute_input": "2024-10-15T20:23:18.165377Z",
     "iopub.status.busy": "2024-10-15T20:23:18.164488Z",
     "iopub.status.idle": "2024-10-15T20:23:18.884491Z",
     "shell.execute_reply": "2024-10-15T20:23:18.883360Z"
    },
    "papermill": {
     "duration": 0.737595,
     "end_time": "2024-10-15T20:23:18.886822",
     "exception": false,
     "start_time": "2024-10-15T20:23:18.149227",
     "status": "completed"
    },
    "tags": []
   },
   "outputs": [
    {
     "data": {
      "image/png": "[encoded data removed]",
      "text/plain": [
       "<Figure size 1800x500 with 4 Axes>"
      ]
     },
     "metadata": {},
     "output_type": "display_data"
    }
   ],
   "source": [
    "fig, axes = plt.subplots(1,4, figsize=(18,5))\n",
    "\n",
    "sns.countplot(x='Gender', hue='satisfaction', palette='viridis', data=train, ax=axes[0])\n",
    "axes[0].set_title(\"Mijozlarning jinsi\")\n",
    "\n",
    "sns.countplot(x='Customer Type', hue='satisfaction', palette='viridis', data=train, ax=axes[1])\n",
    "axes[1].set_title(\"Sodiq yoki ishonchsiz mijoz turi\")\n",
    "\n",
    "sns.countplot(x='Type of Travel', hue='satisfaction', palette='viridis', data=train, ax=axes[2])\n",
    "axes[1].set_title(\"Yo'lovchilar parvozining maqsadi\")\n",
    "\n",
    "sns.countplot(x='Class', hue='satisfaction', palette='viridis', data=train, ax=axes[3])\n",
    "axes[1].set_title(\"Yo'lovchilar samolyotida sayohat klassi\")\n",
    "\n",
    "\n",
    "\n",
    "\n",
    "plt.show()"
   ]
  },
  {
   "cell_type": "code",
   "execution_count": 19,
   "id": "f85c862f",
   "metadata": {
    "execution": {
     "iopub.execute_input": "2024-10-15T20:23:18.918768Z",
     "iopub.status.busy": "2024-10-15T20:23:18.918378Z",
     "iopub.status.idle": "2024-10-15T20:23:18.924577Z",
     "shell.execute_reply": "2024-10-15T20:23:18.923684Z"
    },
    "papermill": {
     "duration": 0.02487,
     "end_time": "2024-10-15T20:23:18.926676",
     "exception": false,
     "start_time": "2024-10-15T20:23:18.901806",
     "status": "completed"
    },
    "tags": []
   },
   "outputs": [],
   "source": [
    "train_num = train.drop(['Gender', 'Customer Type', 'Type of Travel','Class'], axis=1)"
   ]
  },
  {
   "cell_type": "code",
   "execution_count": 20,
   "id": "ccf278fa",
   "metadata": {
    "execution": {
     "iopub.execute_input": "2024-10-15T20:23:18.958371Z",
     "iopub.status.busy": "2024-10-15T20:23:18.957924Z",
     "iopub.status.idle": "2024-10-15T20:23:18.980883Z",
     "shell.execute_reply": "2024-10-15T20:23:18.979730Z"
    },
    "papermill": {
     "duration": 0.041649,
     "end_time": "2024-10-15T20:23:18.983050",
     "exception": false,
     "start_time": "2024-10-15T20:23:18.941401",
     "status": "completed"
    },
    "tags": []
   },
   "outputs": [
    {
     "data": {
      "text/plain": [
       "satisfaction                         1.000000\n",
       "Online boarding                      0.504986\n",
       "Inflight entertainment               0.400900\n",
       "Seat comfort                         0.342294\n",
       "On-board service                     0.326426\n",
       "Leg room service                     0.324368\n",
       "Cleanliness                          0.310338\n",
       "Flight Distance                      0.298703\n",
       "Inflight wifi service                0.277395\n",
       "Baggage handling                     0.247965\n",
       "Inflight service                     0.240584\n",
       "Checkin service                      0.232359\n",
       "Food and drink                       0.207854\n",
       "Ease of Online booking               0.164662\n",
       "Age                                  0.144302\n",
       "Departure/Arrival time convenient    0.067638\n",
       "Arrival Delay in Minutes             0.048650\n",
       "Departure Delay in Minutes           0.042960\n",
       "Gate location                        0.007169\n",
       "id                                   0.002931\n",
       "dtype: float64"
      ]
     },
     "execution_count": 20,
     "metadata": {},
     "output_type": "execute_result"
    }
   ],
   "source": [
    "train_num.corrwith(train['satisfaction']).abs().sort_values(ascending=False)"
   ]
  },
  {
   "cell_type": "code",
   "execution_count": 21,
   "id": "2e152680",
   "metadata": {
    "execution": {
     "iopub.execute_input": "2024-10-15T20:23:19.015450Z",
     "iopub.status.busy": "2024-10-15T20:23:19.014585Z",
     "iopub.status.idle": "2024-10-15T20:23:19.028563Z",
     "shell.execute_reply": "2024-10-15T20:23:19.027359Z"
    },
    "papermill": {
     "duration": 0.032705,
     "end_time": "2024-10-15T20:23:19.030854",
     "exception": false,
     "start_time": "2024-10-15T20:23:18.998149",
     "status": "completed"
    },
    "tags": []
   },
   "outputs": [
    {
     "name": "stdout",
     "output_type": "stream",
     "text": [
      "Mavjud bo'lmagan qiymatlar soni: 28\n",
      "Mavjud bo'lmagan qatorlar soni: 28\n",
      "Mavjud bo'lmagan qatorlar %: 0.0%\n"
     ]
    }
   ],
   "source": [
    "print(f\"Mavjud bo'lmagan qiymatlar soni: {train.isnull().sum().sum()}\")\n",
    "missing_rows = train[train.isnull().any(axis=1)].shape[0]\n",
    "print(f\"Mavjud bo'lmagan qatorlar soni: {missing_rows}\")\n",
    "print(f\"Mavjud bo'lmagan qatorlar %: {np.round(missing_rows/len(train)*100)}%\")"
   ]
  },
  {
   "cell_type": "code",
   "execution_count": 22,
   "id": "6f39c6cb",
   "metadata": {
    "execution": {
     "iopub.execute_input": "2024-10-15T20:23:19.063372Z",
     "iopub.status.busy": "2024-10-15T20:23:19.062442Z",
     "iopub.status.idle": "2024-10-15T20:23:19.080386Z",
     "shell.execute_reply": "2024-10-15T20:23:19.079369Z"
    },
    "papermill": {
     "duration": 0.036659,
     "end_time": "2024-10-15T20:23:19.082601",
     "exception": false,
     "start_time": "2024-10-15T20:23:19.045942",
     "status": "completed"
    },
    "tags": []
   },
   "outputs": [
    {
     "data": {
      "text/html": [
       "<div>\n",
       "<style scoped>\n",
       "    .dataframe tbody tr th:only-of-type {\n",
       "        vertical-align: middle;\n",
       "    }\n",
       "\n",
       "    .dataframe tbody tr th {\n",
       "        vertical-align: top;\n",
       "    }\n",
       "\n",
       "    .dataframe thead th {\n",
       "        text-align: right;\n",
       "    }\n",
       "</style>\n",
       "<table border=\"1\" class=\"dataframe\">\n",
       "  <thead>\n",
       "    <tr style=\"text-align: right;\">\n",
       "      <th></th>\n",
       "      <th>Gender</th>\n",
       "      <th>Customer Type</th>\n",
       "      <th>Age</th>\n",
       "      <th>Type of Travel</th>\n",
       "      <th>Class</th>\n",
       "      <th>Flight Distance</th>\n",
       "      <th>Inflight wifi service</th>\n",
       "      <th>Ease of Online booking</th>\n",
       "      <th>Food and drink</th>\n",
       "      <th>Online boarding</th>\n",
       "      <th>Seat comfort</th>\n",
       "      <th>Inflight entertainment</th>\n",
       "      <th>On-board service</th>\n",
       "      <th>Leg room service</th>\n",
       "      <th>Baggage handling</th>\n",
       "      <th>Checkin service</th>\n",
       "      <th>Inflight service</th>\n",
       "      <th>Cleanliness</th>\n",
       "      <th>satisfaction</th>\n",
       "    </tr>\n",
       "  </thead>\n",
       "  <tbody>\n",
       "    <tr>\n",
       "      <th>0</th>\n",
       "      <td>Male</td>\n",
       "      <td>disloyal Customer</td>\n",
       "      <td>33</td>\n",
       "      <td>Business travel</td>\n",
       "      <td>Eco</td>\n",
       "      <td>571</td>\n",
       "      <td>2</td>\n",
       "      <td>2</td>\n",
       "      <td>4</td>\n",
       "      <td>2</td>\n",
       "      <td>4</td>\n",
       "      <td>4</td>\n",
       "      <td>3</td>\n",
       "      <td>1</td>\n",
       "      <td>3</td>\n",
       "      <td>4</td>\n",
       "      <td>3</td>\n",
       "      <td>4</td>\n",
       "      <td>0</td>\n",
       "    </tr>\n",
       "    <tr>\n",
       "      <th>1</th>\n",
       "      <td>Female</td>\n",
       "      <td>Loyal Customer</td>\n",
       "      <td>49</td>\n",
       "      <td>Business travel</td>\n",
       "      <td>Business</td>\n",
       "      <td>1431</td>\n",
       "      <td>4</td>\n",
       "      <td>4</td>\n",
       "      <td>3</td>\n",
       "      <td>5</td>\n",
       "      <td>4</td>\n",
       "      <td>5</td>\n",
       "      <td>5</td>\n",
       "      <td>5</td>\n",
       "      <td>5</td>\n",
       "      <td>3</td>\n",
       "      <td>5</td>\n",
       "      <td>3</td>\n",
       "      <td>1</td>\n",
       "    </tr>\n",
       "    <tr>\n",
       "      <th>2</th>\n",
       "      <td>Female</td>\n",
       "      <td>Loyal Customer</td>\n",
       "      <td>43</td>\n",
       "      <td>Business travel</td>\n",
       "      <td>Eco</td>\n",
       "      <td>867</td>\n",
       "      <td>1</td>\n",
       "      <td>4</td>\n",
       "      <td>4</td>\n",
       "      <td>4</td>\n",
       "      <td>3</td>\n",
       "      <td>1</td>\n",
       "      <td>1</td>\n",
       "      <td>1</td>\n",
       "      <td>1</td>\n",
       "      <td>1</td>\n",
       "      <td>1</td>\n",
       "      <td>2</td>\n",
       "      <td>0</td>\n",
       "    </tr>\n",
       "    <tr>\n",
       "      <th>3</th>\n",
       "      <td>Female</td>\n",
       "      <td>Loyal Customer</td>\n",
       "      <td>27</td>\n",
       "      <td>Business travel</td>\n",
       "      <td>Business</td>\n",
       "      <td>1550</td>\n",
       "      <td>3</td>\n",
       "      <td>3</td>\n",
       "      <td>2</td>\n",
       "      <td>2</td>\n",
       "      <td>2</td>\n",
       "      <td>2</td>\n",
       "      <td>4</td>\n",
       "      <td>4</td>\n",
       "      <td>5</td>\n",
       "      <td>5</td>\n",
       "      <td>4</td>\n",
       "      <td>2</td>\n",
       "      <td>1</td>\n",
       "    </tr>\n",
       "    <tr>\n",
       "      <th>4</th>\n",
       "      <td>Male</td>\n",
       "      <td>Loyal Customer</td>\n",
       "      <td>11</td>\n",
       "      <td>Personal Travel</td>\n",
       "      <td>Eco</td>\n",
       "      <td>526</td>\n",
       "      <td>3</td>\n",
       "      <td>3</td>\n",
       "      <td>4</td>\n",
       "      <td>3</td>\n",
       "      <td>4</td>\n",
       "      <td>4</td>\n",
       "      <td>5</td>\n",
       "      <td>2</td>\n",
       "      <td>5</td>\n",
       "      <td>3</td>\n",
       "      <td>5</td>\n",
       "      <td>4</td>\n",
       "      <td>0</td>\n",
       "    </tr>\n",
       "  </tbody>\n",
       "</table>\n",
       "</div>"
      ],
      "text/plain": [
       "   Gender      Customer Type  Age   Type of Travel     Class  Flight Distance  \\\n",
       "0    Male  disloyal Customer   33  Business travel       Eco              571   \n",
       "1  Female     Loyal Customer   49  Business travel  Business             1431   \n",
       "2  Female     Loyal Customer   43  Business travel       Eco              867   \n",
       "3  Female     Loyal Customer   27  Business travel  Business             1550   \n",
       "4    Male     Loyal Customer   11  Personal Travel       Eco              526   \n",
       "\n",
       "   Inflight wifi service  Ease of Online booking  Food and drink  \\\n",
       "0                      2                       2               4   \n",
       "1                      4                       4               3   \n",
       "2                      1                       4               4   \n",
       "3                      3                       3               2   \n",
       "4                      3                       3               4   \n",
       "\n",
       "   Online boarding  Seat comfort  Inflight entertainment  On-board service  \\\n",
       "0                2             4                       4                 3   \n",
       "1                5             4                       5                 5   \n",
       "2                4             3                       1                 1   \n",
       "3                2             2                       2                 4   \n",
       "4                3             4                       4                 5   \n",
       "\n",
       "   Leg room service  Baggage handling  Checkin service  Inflight service  \\\n",
       "0                 1                 3                4                 3   \n",
       "1                 5                 5                3                 5   \n",
       "2                 1                 1                1                 1   \n",
       "3                 4                 5                5                 4   \n",
       "4                 2                 5                3                 5   \n",
       "\n",
       "   Cleanliness  satisfaction  \n",
       "0            4             0  \n",
       "1            3             1  \n",
       "2            2             0  \n",
       "3            2             1  \n",
       "4            4             0  "
      ]
     },
     "execution_count": 22,
     "metadata": {},
     "output_type": "execute_result"
    }
   ],
   "source": [
    "data = train.drop(['Departure/Arrival time convenient', 'Arrival Delay in Minutes', 'Departure Delay in Minutes', 'Gate location', 'id'], axis=1)\n",
    "data.head()"
   ]
  },
  {
   "cell_type": "code",
   "execution_count": 23,
   "id": "f85afc41",
   "metadata": {
    "execution": {
     "iopub.execute_input": "2024-10-15T20:23:19.115002Z",
     "iopub.status.busy": "2024-10-15T20:23:19.114546Z",
     "iopub.status.idle": "2024-10-15T20:23:19.125340Z",
     "shell.execute_reply": "2024-10-15T20:23:19.124334Z"
    },
    "papermill": {
     "duration": 0.029547,
     "end_time": "2024-10-15T20:23:19.127450",
     "exception": false,
     "start_time": "2024-10-15T20:23:19.097903",
     "status": "completed"
    },
    "tags": []
   },
   "outputs": [
    {
     "data": {
      "text/plain": [
       "Gender                    0\n",
       "Customer Type             0\n",
       "Age                       0\n",
       "Type of Travel            0\n",
       "Class                     0\n",
       "Flight Distance           0\n",
       "Inflight wifi service     0\n",
       "Ease of Online booking    0\n",
       "Food and drink            0\n",
       "Online boarding           0\n",
       "Seat comfort              0\n",
       "Inflight entertainment    0\n",
       "On-board service          0\n",
       "Leg room service          0\n",
       "Baggage handling          0\n",
       "Checkin service           0\n",
       "Inflight service          0\n",
       "Cleanliness               0\n",
       "satisfaction              0\n",
       "dtype: int64"
      ]
     },
     "execution_count": 23,
     "metadata": {},
     "output_type": "execute_result"
    }
   ],
   "source": [
    "data.isnull().sum()"
   ]
  },
  {
   "cell_type": "code",
   "execution_count": 24,
   "id": "4c468857",
   "metadata": {
    "execution": {
     "iopub.execute_input": "2024-10-15T20:23:19.160992Z",
     "iopub.status.busy": "2024-10-15T20:23:19.160059Z",
     "iopub.status.idle": "2024-10-15T20:23:19.168906Z",
     "shell.execute_reply": "2024-10-15T20:23:19.167895Z"
    },
    "papermill": {
     "duration": 0.028187,
     "end_time": "2024-10-15T20:23:19.171140",
     "exception": false,
     "start_time": "2024-10-15T20:23:19.142953",
     "status": "completed"
    },
    "tags": []
   },
   "outputs": [
    {
     "data": {
      "text/plain": [
       "satisfaction\n",
       "0    0.5\n",
       "1    0.5\n",
       "Name: count, dtype: float64"
      ]
     },
     "execution_count": 24,
     "metadata": {},
     "output_type": "execute_result"
    }
   ],
   "source": [
    "data['satisfaction'].value_counts()/len(data)"
   ]
  },
  {
   "cell_type": "code",
   "execution_count": 25,
   "id": "3e874bf0",
   "metadata": {
    "execution": {
     "iopub.execute_input": "2024-10-15T20:23:19.204235Z",
     "iopub.status.busy": "2024-10-15T20:23:19.203819Z",
     "iopub.status.idle": "2024-10-15T20:23:19.232227Z",
     "shell.execute_reply": "2024-10-15T20:23:19.231164Z"
    },
    "papermill": {
     "duration": 0.047601,
     "end_time": "2024-10-15T20:23:19.234508",
     "exception": false,
     "start_time": "2024-10-15T20:23:19.186907",
     "status": "completed"
    },
    "tags": []
   },
   "outputs": [
    {
     "data": {
      "text/html": [
       "<div>\n",
       "<style scoped>\n",
       "    .dataframe tbody tr th:only-of-type {\n",
       "        vertical-align: middle;\n",
       "    }\n",
       "\n",
       "    .dataframe tbody tr th {\n",
       "        vertical-align: top;\n",
       "    }\n",
       "\n",
       "    .dataframe thead th {\n",
       "        text-align: right;\n",
       "    }\n",
       "</style>\n",
       "<table border=\"1\" class=\"dataframe\">\n",
       "  <thead>\n",
       "    <tr style=\"text-align: right;\">\n",
       "      <th></th>\n",
       "      <th>Age</th>\n",
       "      <th>Flight Distance</th>\n",
       "      <th>Inflight wifi service</th>\n",
       "      <th>Ease of Online booking</th>\n",
       "      <th>Food and drink</th>\n",
       "      <th>Online boarding</th>\n",
       "      <th>Seat comfort</th>\n",
       "      <th>Inflight entertainment</th>\n",
       "      <th>On-board service</th>\n",
       "      <th>Leg room service</th>\n",
       "      <th>...</th>\n",
       "      <th>satisfaction</th>\n",
       "      <th>Gender_Female</th>\n",
       "      <th>Gender_Male</th>\n",
       "      <th>Customer Type_Loyal Customer</th>\n",
       "      <th>Customer Type_disloyal Customer</th>\n",
       "      <th>Type of Travel_Business travel</th>\n",
       "      <th>Type of Travel_Personal Travel</th>\n",
       "      <th>Class_Business</th>\n",
       "      <th>Class_Eco</th>\n",
       "      <th>Class_Eco Plus</th>\n",
       "    </tr>\n",
       "  </thead>\n",
       "  <tbody>\n",
       "    <tr>\n",
       "      <th>0</th>\n",
       "      <td>33</td>\n",
       "      <td>571</td>\n",
       "      <td>2</td>\n",
       "      <td>2</td>\n",
       "      <td>4</td>\n",
       "      <td>2</td>\n",
       "      <td>4</td>\n",
       "      <td>4</td>\n",
       "      <td>3</td>\n",
       "      <td>1</td>\n",
       "      <td>...</td>\n",
       "      <td>0</td>\n",
       "      <td>False</td>\n",
       "      <td>True</td>\n",
       "      <td>False</td>\n",
       "      <td>True</td>\n",
       "      <td>True</td>\n",
       "      <td>False</td>\n",
       "      <td>False</td>\n",
       "      <td>True</td>\n",
       "      <td>False</td>\n",
       "    </tr>\n",
       "    <tr>\n",
       "      <th>1</th>\n",
       "      <td>49</td>\n",
       "      <td>1431</td>\n",
       "      <td>4</td>\n",
       "      <td>4</td>\n",
       "      <td>3</td>\n",
       "      <td>5</td>\n",
       "      <td>4</td>\n",
       "      <td>5</td>\n",
       "      <td>5</td>\n",
       "      <td>5</td>\n",
       "      <td>...</td>\n",
       "      <td>1</td>\n",
       "      <td>True</td>\n",
       "      <td>False</td>\n",
       "      <td>True</td>\n",
       "      <td>False</td>\n",
       "      <td>True</td>\n",
       "      <td>False</td>\n",
       "      <td>True</td>\n",
       "      <td>False</td>\n",
       "      <td>False</td>\n",
       "    </tr>\n",
       "    <tr>\n",
       "      <th>2</th>\n",
       "      <td>43</td>\n",
       "      <td>867</td>\n",
       "      <td>1</td>\n",
       "      <td>4</td>\n",
       "      <td>4</td>\n",
       "      <td>4</td>\n",
       "      <td>3</td>\n",
       "      <td>1</td>\n",
       "      <td>1</td>\n",
       "      <td>1</td>\n",
       "      <td>...</td>\n",
       "      <td>0</td>\n",
       "      <td>True</td>\n",
       "      <td>False</td>\n",
       "      <td>True</td>\n",
       "      <td>False</td>\n",
       "      <td>True</td>\n",
       "      <td>False</td>\n",
       "      <td>False</td>\n",
       "      <td>True</td>\n",
       "      <td>False</td>\n",
       "    </tr>\n",
       "    <tr>\n",
       "      <th>3</th>\n",
       "      <td>27</td>\n",
       "      <td>1550</td>\n",
       "      <td>3</td>\n",
       "      <td>3</td>\n",
       "      <td>2</td>\n",
       "      <td>2</td>\n",
       "      <td>2</td>\n",
       "      <td>2</td>\n",
       "      <td>4</td>\n",
       "      <td>4</td>\n",
       "      <td>...</td>\n",
       "      <td>1</td>\n",
       "      <td>True</td>\n",
       "      <td>False</td>\n",
       "      <td>True</td>\n",
       "      <td>False</td>\n",
       "      <td>True</td>\n",
       "      <td>False</td>\n",
       "      <td>True</td>\n",
       "      <td>False</td>\n",
       "      <td>False</td>\n",
       "    </tr>\n",
       "    <tr>\n",
       "      <th>4</th>\n",
       "      <td>11</td>\n",
       "      <td>526</td>\n",
       "      <td>3</td>\n",
       "      <td>3</td>\n",
       "      <td>4</td>\n",
       "      <td>3</td>\n",
       "      <td>4</td>\n",
       "      <td>4</td>\n",
       "      <td>5</td>\n",
       "      <td>2</td>\n",
       "      <td>...</td>\n",
       "      <td>0</td>\n",
       "      <td>False</td>\n",
       "      <td>True</td>\n",
       "      <td>True</td>\n",
       "      <td>False</td>\n",
       "      <td>False</td>\n",
       "      <td>True</td>\n",
       "      <td>False</td>\n",
       "      <td>True</td>\n",
       "      <td>False</td>\n",
       "    </tr>\n",
       "  </tbody>\n",
       "</table>\n",
       "<p>5 rows × 24 columns</p>\n",
       "</div>"
      ],
      "text/plain": [
       "   Age  Flight Distance  Inflight wifi service  Ease of Online booking  \\\n",
       "0   33              571                      2                       2   \n",
       "1   49             1431                      4                       4   \n",
       "2   43              867                      1                       4   \n",
       "3   27             1550                      3                       3   \n",
       "4   11              526                      3                       3   \n",
       "\n",
       "   Food and drink  Online boarding  Seat comfort  Inflight entertainment  \\\n",
       "0               4                2             4                       4   \n",
       "1               3                5             4                       5   \n",
       "2               4                4             3                       1   \n",
       "3               2                2             2                       2   \n",
       "4               4                3             4                       4   \n",
       "\n",
       "   On-board service  Leg room service  ...  satisfaction  Gender_Female  \\\n",
       "0                 3                 1  ...             0          False   \n",
       "1                 5                 5  ...             1           True   \n",
       "2                 1                 1  ...             0           True   \n",
       "3                 4                 4  ...             1           True   \n",
       "4                 5                 2  ...             0          False   \n",
       "\n",
       "   Gender_Male  Customer Type_Loyal Customer  Customer Type_disloyal Customer  \\\n",
       "0         True                         False                             True   \n",
       "1        False                          True                            False   \n",
       "2        False                          True                            False   \n",
       "3        False                          True                            False   \n",
       "4         True                          True                            False   \n",
       "\n",
       "   Type of Travel_Business travel  Type of Travel_Personal Travel  \\\n",
       "0                            True                           False   \n",
       "1                            True                           False   \n",
       "2                            True                           False   \n",
       "3                            True                           False   \n",
       "4                           False                            True   \n",
       "\n",
       "   Class_Business  Class_Eco  Class_Eco Plus  \n",
       "0           False       True           False  \n",
       "1            True      False           False  \n",
       "2           False       True           False  \n",
       "3            True      False           False  \n",
       "4           False       True           False  \n",
       "\n",
       "[5 rows x 24 columns]"
      ]
     },
     "execution_count": 25,
     "metadata": {},
     "output_type": "execute_result"
    }
   ],
   "source": [
    "encoded = pd.get_dummies(data)\n",
    "encoded.head()"
   ]
  },
  {
   "cell_type": "code",
   "execution_count": 26,
   "id": "6ec700c9",
   "metadata": {
    "execution": {
     "iopub.execute_input": "2024-10-15T20:23:19.269002Z",
     "iopub.status.busy": "2024-10-15T20:23:19.268105Z",
     "iopub.status.idle": "2024-10-15T20:23:19.275059Z",
     "shell.execute_reply": "2024-10-15T20:23:19.274039Z"
    },
    "papermill": {
     "duration": 0.026668,
     "end_time": "2024-10-15T20:23:19.277320",
     "exception": false,
     "start_time": "2024-10-15T20:23:19.250652",
     "status": "completed"
    },
    "tags": []
   },
   "outputs": [],
   "source": [
    "X = encoded.drop(\"satisfaction\", axis=1)\n",
    "y = encoded['satisfaction']"
   ]
  },
  {
   "cell_type": "code",
   "execution_count": 27,
   "id": "afcbc06f",
   "metadata": {
    "execution": {
     "iopub.execute_input": "2024-10-15T20:23:19.310795Z",
     "iopub.status.busy": "2024-10-15T20:23:19.310404Z",
     "iopub.status.idle": "2024-10-15T20:23:19.331466Z",
     "shell.execute_reply": "2024-10-15T20:23:19.330517Z"
    },
    "papermill": {
     "duration": 0.040856,
     "end_time": "2024-10-15T20:23:19.334068",
     "exception": false,
     "start_time": "2024-10-15T20:23:19.293212",
     "status": "completed"
    },
    "tags": []
   },
   "outputs": [],
   "source": [
    "scaler = StandardScaler()\n",
    "X = scaler.fit_transform(X)"
   ]
  },
  {
   "cell_type": "code",
   "execution_count": 28,
   "id": "0c519aaa",
   "metadata": {
    "execution": {
     "iopub.execute_input": "2024-10-15T20:23:19.368814Z",
     "iopub.status.busy": "2024-10-15T20:23:19.367816Z",
     "iopub.status.idle": "2024-10-15T20:23:19.380165Z",
     "shell.execute_reply": "2024-10-15T20:23:19.379329Z"
    },
    "papermill": {
     "duration": 0.032031,
     "end_time": "2024-10-15T20:23:19.382420",
     "exception": false,
     "start_time": "2024-10-15T20:23:19.350389",
     "status": "completed"
    },
    "tags": []
   },
   "outputs": [],
   "source": [
    "X_train, X_test, y_train, y_test=train_test_split(X, y, test_size=0.2, stratify=y, random_state=0)\n"
   ]
  },
  {
   "cell_type": "code",
   "execution_count": 29,
   "id": "4a3b3f62",
   "metadata": {
    "execution": {
     "iopub.execute_input": "2024-10-15T20:23:19.416605Z",
     "iopub.status.busy": "2024-10-15T20:23:19.415570Z",
     "iopub.status.idle": "2024-10-15T20:23:19.475511Z",
     "shell.execute_reply": "2024-10-15T20:23:19.474376Z"
    },
    "papermill": {
     "duration": 0.080013,
     "end_time": "2024-10-15T20:23:19.478265",
     "exception": false,
     "start_time": "2024-10-15T20:23:19.398252",
     "status": "completed"
    },
    "tags": []
   },
   "outputs": [
    {
     "name": "stdout",
     "output_type": "stream",
     "text": [
      "              precision    recall  f1-score   support\n",
      "\n",
      "           0       0.85      0.88      0.86      1000\n",
      "           1       0.87      0.85      0.86      1000\n",
      "\n",
      "    accuracy                           0.86      2000\n",
      "   macro avg       0.86      0.86      0.86      2000\n",
      "weighted avg       0.86      0.86      0.86      2000\n",
      "\n",
      "Model aniqligi: 0.863\n"
     ]
    }
   ],
   "source": [
    "LR_model = LogisticRegression()\n",
    "LR_model.fit(X_train, y_train)\n",
    "\n",
    "\n",
    "y_pred = LR_model.predict(X_test)\n",
    "print(metrics.classification_report(y_test, y_pred))\n",
    "print(\"Model aniqligi:\", metrics.accuracy_score(y_test,y_pred))\n"
   ]
  },
  {
   "cell_type": "code",
   "execution_count": 30,
   "id": "a84d26f8",
   "metadata": {
    "execution": {
     "iopub.execute_input": "2024-10-15T20:23:19.534823Z",
     "iopub.status.busy": "2024-10-15T20:23:19.534272Z",
     "iopub.status.idle": "2024-10-15T20:23:19.749763Z",
     "shell.execute_reply": "2024-10-15T20:23:19.748671Z"
    },
    "papermill": {
     "duration": 0.246743,
     "end_time": "2024-10-15T20:23:19.752227",
     "exception": false,
     "start_time": "2024-10-15T20:23:19.505484",
     "status": "completed"
    },
    "tags": []
   },
   "outputs": [
    {
     "data": {
      "image/png": "[encoded data removed]",
      "text/plain": [
       "<Figure size 640x480 with 2 Axes>"
      ]
     },
     "metadata": {},
     "output_type": "display_data"
    }
   ],
   "source": [
    "conf_mat = metrics.confusion_matrix(y_test, y_pred)\n",
    "sns.heatmap(conf_mat, annot=True,fmt=\"g\")\n",
    "plt.show()"
   ]
  },
  {
   "cell_type": "code",
   "execution_count": 31,
   "id": "2bc836cc",
   "metadata": {
    "execution": {
     "iopub.execute_input": "2024-10-15T20:23:19.787289Z",
     "iopub.status.busy": "2024-10-15T20:23:19.786544Z",
     "iopub.status.idle": "2024-10-15T20:23:19.967079Z",
     "shell.execute_reply": "2024-10-15T20:23:19.966045Z"
    },
    "papermill": {
     "duration": 0.200637,
     "end_time": "2024-10-15T20:23:19.969393",
     "exception": false,
     "start_time": "2024-10-15T20:23:19.768756",
     "status": "completed"
    },
    "tags": []
   },
   "outputs": [
    {
     "data": {
      "image/png": "[encoded data removed]",
      "text/plain": [
       "<Figure size 640x480 with 1 Axes>"
      ]
     },
     "metadata": {},
     "output_type": "display_data"
    }
   ],
   "source": [
    "fpr, tpr, thresholds = metrics.roc_curve(y_test, y_pred)\n",
    "roc_auc = metrics.auc(fpr, tpr)\n",
    "display = metrics.RocCurveDisplay(fpr=fpr, tpr=tpr, roc_auc=roc_auc, estimator_name='ROC curve')\n",
    "display.plot()\n",
    "plt.show()"
   ]
  },
  {
   "cell_type": "code",
   "execution_count": 32,
   "id": "675e99ce",
   "metadata": {
    "execution": {
     "iopub.execute_input": "2024-10-15T20:23:20.004914Z",
     "iopub.status.busy": "2024-10-15T20:23:20.004528Z",
     "iopub.status.idle": "2024-10-15T20:23:21.195905Z",
     "shell.execute_reply": "2024-10-15T20:23:21.194594Z"
    },
    "papermill": {
     "duration": 1.212023,
     "end_time": "2024-10-15T20:23:21.198294",
     "exception": false,
     "start_time": "2024-10-15T20:23:19.986271",
     "status": "completed"
    },
    "tags": []
   },
   "outputs": [
    {
     "name": "stdout",
     "output_type": "stream",
     "text": [
      "              precision    recall  f1-score   support\n",
      "\n",
      "           0       0.92      0.94      0.93      1000\n",
      "           1       0.93      0.92      0.93      1000\n",
      "\n",
      "    accuracy                           0.93      2000\n",
      "   macro avg       0.93      0.93      0.93      2000\n",
      "weighted avg       0.93      0.93      0.93      2000\n",
      "\n",
      "Model aniqligi: 0.929\n"
     ]
    }
   ],
   "source": [
    "svm_model = SVC()\n",
    "svm_model.fit(X_train, y_train)\n",
    "\n",
    "y_pred = svm_model.predict(X_test)\n",
    "print(classification_report(y_test, y_pred))\n",
    "print(\"Model aniqligi:\", metrics.accuracy_score(y_test,y_pred))\n"
   ]
  },
  {
   "cell_type": "code",
   "execution_count": 33,
   "id": "4f4fdc04",
   "metadata": {
    "execution": {
     "iopub.execute_input": "2024-10-15T20:23:21.234221Z",
     "iopub.status.busy": "2024-10-15T20:23:21.233788Z",
     "iopub.status.idle": "2024-10-15T20:23:21.696634Z",
     "shell.execute_reply": "2024-10-15T20:23:21.695581Z"
    },
    "papermill": {
     "duration": 0.483646,
     "end_time": "2024-10-15T20:23:21.699101",
     "exception": false,
     "start_time": "2024-10-15T20:23:21.215455",
     "status": "completed"
    },
    "tags": []
   },
   "outputs": [
    {
     "data": {
      "image/png": "[encoded data removed]",
      "text/plain": [
       "<Figure size 640x480 with 2 Axes>"
      ]
     },
     "metadata": {},
     "output_type": "display_data"
    },
    {
     "data": {
      "image/png": "[encoded data removed]",
      "text/plain": [
       "<Figure size 640x480 with 1 Axes>"
      ]
     },
     "metadata": {},
     "output_type": "display_data"
    }
   ],
   "source": [
    "conf_mat = metrics.confusion_matrix(y_test, y_pred)\n",
    "sns.heatmap(conf_mat, annot=True,fmt=\"g\")\n",
    "plt.show()\n",
    "\n",
    "fpr, tpr, thresholds = metrics.roc_curve(y_test, y_pred)\n",
    "roc_auc = metrics.auc(fpr, tpr)\n",
    "display = metrics.RocCurveDisplay(fpr=fpr, tpr=tpr, roc_auc=roc_auc, estimator_name='ROC curve')\n",
    "display.plot()\n",
    "plt.show()"
   ]
  },
  {
   "cell_type": "code",
   "execution_count": 34,
   "id": "6842b73b",
   "metadata": {
    "execution": {
     "iopub.execute_input": "2024-10-15T20:23:21.736934Z",
     "iopub.status.busy": "2024-10-15T20:23:21.736536Z",
     "iopub.status.idle": "2024-10-15T20:23:22.261090Z",
     "shell.execute_reply": "2024-10-15T20:23:22.259866Z"
    },
    "papermill": {
     "duration": 0.546777,
     "end_time": "2024-10-15T20:23:22.263667",
     "exception": false,
     "start_time": "2024-10-15T20:23:21.716890",
     "status": "completed"
    },
    "tags": []
   },
   "outputs": [
    {
     "name": "stdout",
     "output_type": "stream",
     "text": [
      "              precision    recall  f1-score   support\n",
      "\n",
      "           0       0.93      0.93      0.93      1000\n",
      "           1       0.93      0.93      0.93      1000\n",
      "\n",
      "    accuracy                           0.93      2000\n",
      "   macro avg       0.93      0.93      0.93      2000\n",
      "weighted avg       0.93      0.93      0.93      2000\n",
      "\n",
      "Model aniqligi: 0.927\n"
     ]
    },
    {
     "data": {
      "image/png": "[encoded data removed]",
      "text/plain": [
       "<Figure size 640x480 with 2 Axes>"
      ]
     },
     "metadata": {},
     "output_type": "display_data"
    },
    {
     "data": {
      "image/png": "[encoded data removed]",
      "text/plain": [
       "<Figure size 640x480 with 1 Axes>"
      ]
     },
     "metadata": {},
     "output_type": "display_data"
    }
   ],
   "source": [
    "tree_model = DecisionTreeClassifier()\n",
    "tree_model.fit(X_train, y_train)\n",
    "\n",
    "\n",
    "y_pred = tree_model.predict(X_test)\n",
    "print(classification_report(y_test, y_pred))\n",
    "print(\"Model aniqligi:\", metrics.accuracy_score(y_test,y_pred))\n",
    "\n",
    "\n",
    "conf_mat = metrics.confusion_matrix(y_test, y_pred)\n",
    "sns.heatmap(conf_mat, annot=True,fmt=\"g\")\n",
    "plt.show()\n",
    "\n",
    "\n",
    "fpr, tpr, thresholds = metrics.roc_curve(y_test, y_pred)\n",
    "roc_auc = metrics.auc(fpr, tpr)\n",
    "display = metrics.RocCurveDisplay(fpr=fpr, tpr=tpr, roc_auc=roc_auc, estimator_name='ROC curve')\n",
    "display.plot()\n",
    "plt.show()"
   ]
  },
  {
   "cell_type": "code",
   "execution_count": 35,
   "id": "866e1237",
   "metadata": {
    "execution": {
     "iopub.execute_input": "2024-10-15T20:23:22.303209Z",
     "iopub.status.busy": "2024-10-15T20:23:22.302787Z",
     "iopub.status.idle": "2024-10-15T20:23:22.786180Z",
     "shell.execute_reply": "2024-10-15T20:23:22.784907Z"
    },
    "papermill": {
     "duration": 0.505847,
     "end_time": "2024-10-15T20:23:22.788469",
     "exception": false,
     "start_time": "2024-10-15T20:23:22.282622",
     "status": "completed"
    },
    "tags": []
   },
   "outputs": [
    {
     "name": "stdout",
     "output_type": "stream",
     "text": [
      "              precision    recall  f1-score   support\n",
      "\n",
      "           0       0.94      0.94      0.94      1000\n",
      "           1       0.94      0.94      0.94      1000\n",
      "\n",
      "    accuracy                           0.94      2000\n",
      "   macro avg       0.94      0.94      0.94      2000\n",
      "weighted avg       0.94      0.94      0.94      2000\n",
      "\n",
      "Model aniqligi: 0.942\n"
     ]
    },
    {
     "data": {
      "image/png": "[encoded data removed]",
      "text/plain": [
       "<Figure size 640x480 with 2 Axes>"
      ]
     },
     "metadata": {},
     "output_type": "display_data"
    },
    {
     "data": {
      "image/png": "[encoded data removed]",
      "text/plain": [
       "<Figure size 640x480 with 1 Axes>"
      ]
     },
     "metadata": {},
     "output_type": "display_data"
    }
   ],
   "source": [
    "RF_model = RandomForestClassifier(n_estimators=9)\n",
    "RF_model.fit(X_train, y_train)\n",
    "\n",
    "y_pred = RF_model.predict(X_test)\n",
    "print(classification_report(y_test, y_pred))\n",
    "print(\"Model aniqligi:\", metrics.accuracy_score(y_test,y_pred))\n",
    "\n",
    "conf_mat = metrics.confusion_matrix(y_test, y_pred)\n",
    "sns.heatmap(conf_mat, annot=True,fmt=\"g\")\n",
    "plt.show()\n",
    "\n",
    "fpr, tpr, thresholds = metrics.roc_curve(y_test, y_pred)\n",
    "roc_auc = metrics.auc(fpr, tpr)\n",
    "display = metrics.RocCurveDisplay(fpr=fpr, tpr=tpr, roc_auc=roc_auc, estimator_name='ROC curve')\n",
    "display.plot()\n",
    "plt.show()"
   ]
  },
  {
   "cell_type": "code",
   "execution_count": 36,
   "id": "ad5549be",
   "metadata": {
    "execution": {
     "iopub.execute_input": "2024-10-15T20:23:22.829921Z",
     "iopub.status.busy": "2024-10-15T20:23:22.828811Z",
     "iopub.status.idle": "2024-10-15T20:23:23.616960Z",
     "shell.execute_reply": "2024-10-15T20:23:23.615795Z"
    },
    "papermill": {
     "duration": 0.811407,
     "end_time": "2024-10-15T20:23:23.619363",
     "exception": false,
     "start_time": "2024-10-15T20:23:22.807956",
     "status": "completed"
    },
    "tags": []
   },
   "outputs": [
    {
     "name": "stdout",
     "output_type": "stream",
     "text": [
      "              precision    recall  f1-score   support\n",
      "\n",
      "           0       0.94      0.95      0.94      1000\n",
      "           1       0.95      0.94      0.94      1000\n",
      "\n",
      "    accuracy                           0.94      2000\n",
      "   macro avg       0.94      0.94      0.94      2000\n",
      "weighted avg       0.94      0.94      0.94      2000\n",
      "\n",
      "Model aniqligi: 0.9445\n"
     ]
    },
    {
     "data": {
      "image/png": "[encoded data removed]",
      "text/plain": [
       "<Figure size 640x480 with 2 Axes>"
      ]
     },
     "metadata": {},
     "output_type": "display_data"
    },
    {
     "data": {
      "image/png": "[encoded data removed]",
      "text/plain": [
       "<Figure size 640x480 with 1 Axes>"
      ]
     },
     "metadata": {},
     "output_type": "display_data"
    }
   ],
   "source": [
    "xgb_model = XGBClassifier()\n",
    "xgb_model.fit(X_train, y_train)\n",
    "\n",
    "# Modelni baholaymiz\n",
    "y_pred = xgb_model.predict(X_test)\n",
    "print(classification_report(y_test, y_pred))\n",
    "print(\"Model aniqligi:\", metrics.accuracy_score(y_test,y_pred))\n",
    "\n",
    "## confusion matrix\n",
    "conf_mat = metrics.confusion_matrix(y_test, y_pred)\n",
    "sns.heatmap(conf_mat, annot=True,fmt=\"g\")\n",
    "plt.show()\n",
    "\n",
    "## ROC curve\n",
    "fpr, tpr, thresholds = metrics.roc_curve(y_test, y_pred)\n",
    "roc_auc = metrics.auc(fpr, tpr)\n",
    "display = metrics.RocCurveDisplay(fpr=fpr, tpr=tpr, roc_auc=roc_auc, estimator_name='ROC curve')\n",
    "display.plot()\n",
    "plt.show()"
   ]
  },
  {
   "cell_type": "code",
   "execution_count": 37,
   "id": "6426882c",
   "metadata": {
    "execution": {
     "iopub.execute_input": "2024-10-15T20:23:23.661770Z",
     "iopub.status.busy": "2024-10-15T20:23:23.661366Z",
     "iopub.status.idle": "2024-10-15T20:23:23.674078Z",
     "shell.execute_reply": "2024-10-15T20:23:23.672986Z"
    },
    "papermill": {
     "duration": 0.036228,
     "end_time": "2024-10-15T20:23:23.676309",
     "exception": false,
     "start_time": "2024-10-15T20:23:23.640081",
     "status": "completed"
    },
    "tags": []
   },
   "outputs": [],
   "source": [
    "test_1 = test.drop(['Departure/Arrival time convenient', 'Arrival Delay in Minutes', 'Departure Delay in Minutes', 'Gate location'], axis=1)\n",
    "test_df = pd.get_dummies(test_1)\n"
   ]
  },
  {
   "cell_type": "code",
   "execution_count": 38,
   "id": "7b870f26",
   "metadata": {
    "execution": {
     "iopub.execute_input": "2024-10-15T20:23:23.718304Z",
     "iopub.status.busy": "2024-10-15T20:23:23.717875Z",
     "iopub.status.idle": "2024-10-15T20:23:25.800044Z",
     "shell.execute_reply": "2024-10-15T20:23:25.798757Z"
    },
    "papermill": {
     "duration": 2.106332,
     "end_time": "2024-10-15T20:23:25.802733",
     "exception": false,
     "start_time": "2024-10-15T20:23:23.696401",
     "status": "completed"
    },
    "tags": []
   },
   "outputs": [
    {
     "name": "stderr",
     "output_type": "stream",
     "text": [
      "/opt/conda/lib/python3.10/site-packages/sklearn/base.py:432: UserWarning: X has feature names, but SVC was fitted without feature names\n",
      "  warnings.warn(\n"
     ]
    }
   ],
   "source": [
    "clf = SVC()\n",
    "clf.fit(X, y)\n",
    "\n",
    "test_data = test_df.drop(\"id\", axis=1).copy()\n",
    "prediction = clf.predict(test_data)"
   ]
  },
  {
   "cell_type": "code",
   "execution_count": 39,
   "id": "ca3bba98",
   "metadata": {
    "execution": {
     "iopub.execute_input": "2024-10-15T20:23:25.845966Z",
     "iopub.status.busy": "2024-10-15T20:23:25.845593Z",
     "iopub.status.idle": "2024-10-15T20:23:25.858022Z",
     "shell.execute_reply": "2024-10-15T20:23:25.856904Z"
    },
    "papermill": {
     "duration": 0.036766,
     "end_time": "2024-10-15T20:23:25.860542",
     "exception": false,
     "start_time": "2024-10-15T20:23:25.823776",
     "status": "completed"
    },
    "tags": []
   },
   "outputs": [],
   "source": [
    "submission = pd.DataFrame({\n",
    "        \"id\": test[\"id\"],\n",
    "        \"satisfaction\": prediction\n",
    "    })\n",
    "\n",
    "submission.to_csv('submission.csv', index=False)"
   ]
  },
  {
   "cell_type": "code",
   "execution_count": 40,
   "id": "b1bcb4e0",
   "metadata": {
    "execution": {
     "iopub.execute_input": "2024-10-15T20:23:25.903060Z",
     "iopub.status.busy": "2024-10-15T20:23:25.902652Z",
     "iopub.status.idle": "2024-10-15T20:23:25.915004Z",
     "shell.execute_reply": "2024-10-15T20:23:25.913900Z"
    },
    "papermill": {
     "duration": 0.036488,
     "end_time": "2024-10-15T20:23:25.917404",
     "exception": false,
     "start_time": "2024-10-15T20:23:25.880916",
     "status": "completed"
    },
    "tags": []
   },
   "outputs": [
    {
     "data": {
      "text/html": [
       "<div>\n",
       "<style scoped>\n",
       "    .dataframe tbody tr th:only-of-type {\n",
       "        vertical-align: middle;\n",
       "    }\n",
       "\n",
       "    .dataframe tbody tr th {\n",
       "        vertical-align: top;\n",
       "    }\n",
       "\n",
       "    .dataframe thead th {\n",
       "        text-align: right;\n",
       "    }\n",
       "</style>\n",
       "<table border=\"1\" class=\"dataframe\">\n",
       "  <thead>\n",
       "    <tr style=\"text-align: right;\">\n",
       "      <th></th>\n",
       "      <th>id</th>\n",
       "      <th>satisfaction</th>\n",
       "    </tr>\n",
       "  </thead>\n",
       "  <tbody>\n",
       "    <tr>\n",
       "      <th>0</th>\n",
       "      <td>1</td>\n",
       "      <td>1</td>\n",
       "    </tr>\n",
       "    <tr>\n",
       "      <th>1</th>\n",
       "      <td>2</td>\n",
       "      <td>1</td>\n",
       "    </tr>\n",
       "    <tr>\n",
       "      <th>2</th>\n",
       "      <td>3</td>\n",
       "      <td>1</td>\n",
       "    </tr>\n",
       "    <tr>\n",
       "      <th>3</th>\n",
       "      <td>4</td>\n",
       "      <td>1</td>\n",
       "    </tr>\n",
       "    <tr>\n",
       "      <th>4</th>\n",
       "      <td>5</td>\n",
       "      <td>1</td>\n",
       "    </tr>\n",
       "  </tbody>\n",
       "</table>\n",
       "</div>"
      ],
      "text/plain": [
       "   id  satisfaction\n",
       "0   1             1\n",
       "1   2             1\n",
       "2   3             1\n",
       "3   4             1\n",
       "4   5             1"
      ]
     },
     "execution_count": 40,
     "metadata": {},
     "output_type": "execute_result"
    }
   ],
   "source": [
    "submission = pd.read_csv('submission.csv')\n",
    "submission.head()"
   ]
  }
 ],
 "metadata": {
  "kaggle": {
   "accelerator": "none",
   "dataSources": [
    {
     "databundleVersionId": 3544842,
     "sourceId": 36191,
     "sourceType": "competition"
    }
   ],
   "dockerImageVersionId": 30786,
   "isGpuEnabled": false,
   "isInternetEnabled": false,
   "language": "python",
   "sourceType": "notebook"
  },
  "kernelspec": {
   "display_name": "Python 3",
   "language": "python",
   "name": "python3"
  },
  "language_info": {
   "codemirror_mode": {
    "name": "ipython",
    "version": 3
   },
   "file_extension": ".py",
   "mimetype": "text/x-python",
   "name": "python",
   "nbconvert_exporter": "python",
   "pygments_lexer": "ipython3",
   "version": "3.10.14"
  },
  "papermill": {
   "default_parameters": {},
   "duration": 20.704373,
   "end_time": "2024-10-15T20:23:26.660108",
   "environment_variables": {},
   "exception": null,
   "input_path": "__notebook__.ipynb",
   "output_path": "__notebook__.ipynb",
   "parameters": {},
   "start_time": "2024-10-15T20:23:05.955735",
   "version": "2.6.0"
  }
 },
 "nbformat": 4,
 "nbformat_minor": 5
}
